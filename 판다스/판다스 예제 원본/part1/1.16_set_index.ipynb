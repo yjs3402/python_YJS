{
 "cells": [
  {
   "cell_type": "code",
   "execution_count": 1,
   "metadata": {
    "colab": {
     "base_uri": "https://localhost:8080/"
    },
    "executionInfo": {
     "elapsed": 5,
     "status": "ok",
     "timestamp": 1706178618959,
     "user": {
      "displayName": "Steve",
      "userId": "13015281013241816762"
     },
     "user_tz": -540
    },
    "id": "jo6BYYnDJNk2",
    "outputId": "27adb891-31e9-40c2-a2c1-9f4954a363a2",
    "tags": []
   },
   "outputs": [
    {
     "name": "stdout",
     "output_type": "stream",
     "text": [
      "   이름  수학  영어   음악   체육\n",
      "0  서준  90  98   85  100\n",
      "1  우현  80  89   95   90\n",
      "2  인아  70  95  100   90\n"
     ]
    }
   ],
   "source": [
    "import pandas as pd\n",
    "\n",
    "# DataFrame() 함수로 데이터프레임 변환. 변수 df에 저장\n",
    "exam_data = {'이름' : [ '서준', '우현', '인아'],\n",
    "             '수학' : [ 90, 80, 70],\n",
    "             '영어' : [ 98, 89, 95],\n",
    "             '음악' : [ 85, 95, 100],\n",
    "             '체육' : [ 100, 90, 90]}\n",
    "\n",
    "df = pd.DataFrame(exam_data)\n",
    "print(df)"
   ]
  },
  {
   "cell_type": "code",
   "execution_count": 2,
   "metadata": {
    "colab": {
     "base_uri": "https://localhost:8080/"
    },
    "executionInfo": {
     "elapsed": 5,
     "status": "ok",
     "timestamp": 1706178619360,
     "user": {
      "displayName": "Steve",
      "userId": "13015281013241816762"
     },
     "user_tz": -540
    },
    "id": "fizXtlBFJNnb",
    "outputId": "85912100-a618-4620-b9c2-825309135e4d",
    "tags": []
   },
   "outputs": [
    {
     "name": "stdout",
     "output_type": "stream",
     "text": [
      "    수학  영어   음악   체육\n",
      "이름                  \n",
      "서준  90  98   85  100\n",
      "우현  80  89   95   90\n",
      "인아  70  95  100   90\n"
     ]
    }
   ],
   "source": [
    "# 특정 열(column)을 데이터프레임의 행 인덱스(index)로 설정\n",
    "ndf = df.set_index(['이름'])\n",
    "print(ndf)"
   ]
  },
  {
   "cell_type": "code",
   "execution_count": 3,
   "metadata": {
    "colab": {
     "base_uri": "https://localhost:8080/"
    },
    "executionInfo": {
     "elapsed": 4,
     "status": "ok",
     "timestamp": 1706178624782,
     "user": {
      "displayName": "Steve",
      "userId": "13015281013241816762"
     },
     "user_tz": -540
    },
    "id": "M1z3tsc7JNp5",
    "outputId": "14cf5f6f-c84a-4c11-b030-e0be50ca1231",
    "tags": []
   },
   "outputs": [
    {
     "name": "stdout",
     "output_type": "stream",
     "text": [
      "     수학  영어   체육\n",
      "음악              \n",
      "85   90  98  100\n",
      "95   80  89   90\n",
      "100  70  95   90\n"
     ]
    }
   ],
   "source": [
    "ndf2 = ndf.set_index('음악')\n",
    "print(ndf2)"
   ]
  },
  {
   "cell_type": "code",
   "execution_count": 4,
   "metadata": {
    "colab": {
     "base_uri": "https://localhost:8080/"
    },
    "executionInfo": {
     "elapsed": 4,
     "status": "ok",
     "timestamp": 1706178632342,
     "user": {
      "displayName": "Steve",
      "userId": "13015281013241816762"
     },
     "user_tz": -540
    },
    "id": "jPXFQYPMK8Ub",
    "outputId": "8ae87110-438b-4ddb-ee67-c00a0152f478",
    "tags": []
   },
   "outputs": [
    {
     "name": "stdout",
     "output_type": "stream",
     "text": [
      "        영어   체육\n",
      "수학 음악          \n",
      "90 85   98  100\n",
      "80 95   89   90\n",
      "70 100  95   90\n"
     ]
    }
   ],
   "source": [
    "ndf3 = ndf.set_index(['수학', '음악'])\n",
    "print(ndf3)"
   ]
  }
 ],
 "metadata": {
  "colab": {
   "authorship_tag": "ABX9TyNWMSXzKJBsxn80g+ba12cz",
   "provenance": []
  },
  "kernelspec": {
   "display_name": "pandas",
   "language": "python",
   "name": "pandas"
  },
  "language_info": {
   "codemirror_mode": {
    "name": "ipython",
    "version": 3
   },
   "file_extension": ".py",
   "mimetype": "text/x-python",
   "name": "python",
   "nbconvert_exporter": "python",
   "pygments_lexer": "ipython3",
   "version": "3.10.13"
  }
 },
 "nbformat": 4,
 "nbformat_minor": 4
}
