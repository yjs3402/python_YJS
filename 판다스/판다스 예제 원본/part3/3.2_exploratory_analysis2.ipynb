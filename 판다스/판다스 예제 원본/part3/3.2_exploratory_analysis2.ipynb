{
 "cells": [
  {
   "cell_type": "code",
   "execution_count": 1,
   "id": "bb12202f-d4dd-41d5-b8bd-f4c78b69b0f9",
   "metadata": {
    "tags": []
   },
   "outputs": [
    {
     "data": {
      "text/plain": [
       "mpg             398\n",
       "cylinders       398\n",
       "displacement    398\n",
       "horsepower      398\n",
       "weight          398\n",
       "acceleration    398\n",
       "model year      398\n",
       "origin          398\n",
       "name            398\n",
       "dtype: int64"
      ]
     },
     "execution_count": 1,
     "metadata": {},
     "output_type": "execute_result"
    }
   ],
   "source": [
    "import pandas as pd\n",
    "\n",
    "# read_csv() 함수로 df 생성\n",
    "df = pd.read_csv('./data/auto-mpg.csv', header=None)\n",
    "\n",
    "# 열 이름을 지정\n",
    "df.columns = ['mpg','cylinders','displacement','horsepower','weight',\n",
    "              'acceleration','model year','origin','name']\n",
    "\n",
    "# 데이터프레임 df의 각 열이 가지고 있는 원소 개수 확인 \n",
    "df.count()"
   ]
  },
  {
   "cell_type": "code",
   "execution_count": 2,
   "id": "74bcb12d-e2bf-4b01-894d-8df3587a0e04",
   "metadata": {
    "tags": []
   },
   "outputs": [
    {
     "data": {
      "text/plain": [
       "pandas.core.series.Series"
      ]
     },
     "execution_count": 2,
     "metadata": {},
     "output_type": "execute_result"
    }
   ],
   "source": [
    "# df.count()가 반환하는 객체 타입 출력\n",
    "type(df.count())"
   ]
  },
  {
   "cell_type": "code",
   "execution_count": 3,
   "id": "529a2f3f-42ce-4a68-83dd-5625ec106f57",
   "metadata": {
    "tags": []
   },
   "outputs": [
    {
     "data": {
      "text/plain": [
       "origin\n",
       "1    249\n",
       "3     79\n",
       "2     70\n",
       "Name: count, dtype: int64"
      ]
     },
     "execution_count": 3,
     "metadata": {},
     "output_type": "execute_result"
    }
   ],
   "source": [
    "# 데이터프레임 df의 특정 열이 가지고 있는 고유값의 개수를 확인\n",
    "unique_values = df['origin'].value_counts() \n",
    "unique_values"
   ]
  },
  {
   "cell_type": "code",
   "execution_count": 4,
   "id": "59fe2364-e776-4b63-bc2a-96738f689eb4",
   "metadata": {
    "tags": []
   },
   "outputs": [
    {
     "data": {
      "text/plain": [
       "origin\n",
       "1    0.625628\n",
       "3    0.198492\n",
       "2    0.175879\n",
       "Name: proportion, dtype: float64"
      ]
     },
     "execution_count": 4,
     "metadata": {},
     "output_type": "execute_result"
    }
   ],
   "source": [
    "# 데이터프레임 df의 특정 열이 가지고 있는 고유값의 비율을 확인\n",
    "unique_values_ratio = df['origin'].value_counts(normalize=True) \n",
    "unique_values_ratio"
   ]
  },
  {
   "cell_type": "code",
   "execution_count": 5,
   "id": "f8b75a92-173d-44a2-bdf8-4152a493bc43",
   "metadata": {
    "tags": []
   },
   "outputs": [
    {
     "data": {
      "text/plain": [
       "origin\n",
       "1    62.6\n",
       "3    19.8\n",
       "2    17.6\n",
       "Name: proportion, dtype: float64"
      ]
     },
     "execution_count": 5,
     "metadata": {},
     "output_type": "execute_result"
    }
   ],
   "source": [
    "# 데이터프레임 df의 특정 열이 가지고 있는 고유값의 비율을 확인 (백분율로 변환)\n",
    "unique_values_percentage = (df['origin'].value_counts(normalize=True) * 100 ).round(1)\n",
    "unique_values_percentage"
   ]
  }
 ],
 "metadata": {
  "kernelspec": {
   "display_name": "pandas",
   "language": "python",
   "name": "pandas"
  },
  "language_info": {
   "codemirror_mode": {
    "name": "ipython",
    "version": 3
   },
   "file_extension": ".py",
   "mimetype": "text/x-python",
   "name": "python",
   "nbconvert_exporter": "python",
   "pygments_lexer": "ipython3",
   "version": "3.10.13"
  }
 },
 "nbformat": 4,
 "nbformat_minor": 5
}
