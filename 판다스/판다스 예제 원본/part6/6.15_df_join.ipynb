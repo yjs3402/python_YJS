{
 "cells": [
  {
   "cell_type": "code",
   "execution_count": 21,
   "id": "e8eb5840-29e7-4bc2-a5d6-1cd78fa041bc",
   "metadata": {
    "tags": []
   },
   "outputs": [
    {
     "data": {
      "text/html": [
       "<div>\n",
       "<style scoped>\n",
       "    .dataframe tbody tr th:only-of-type {\n",
       "        vertical-align: middle;\n",
       "    }\n",
       "\n",
       "    .dataframe tbody tr th {\n",
       "        vertical-align: top;\n",
       "    }\n",
       "\n",
       "    .dataframe thead th {\n",
       "        text-align: right;\n",
       "    }\n",
       "</style>\n",
       "<table border=\"1\" class=\"dataframe\">\n",
       "  <thead>\n",
       "    <tr style=\"text-align: right;\">\n",
       "      <th></th>\n",
       "      <th>매출액</th>\n",
       "    </tr>\n",
       "    <tr>\n",
       "      <th>분기</th>\n",
       "      <th></th>\n",
       "    </tr>\n",
       "  </thead>\n",
       "  <tbody>\n",
       "    <tr>\n",
       "      <th>2022-Q4</th>\n",
       "      <td>70464575000000</td>\n",
       "    </tr>\n",
       "    <tr>\n",
       "      <th>2022-Q3</th>\n",
       "      <td>76781680000000</td>\n",
       "    </tr>\n",
       "    <tr>\n",
       "      <th>2022-Q2</th>\n",
       "      <td>77203607000000</td>\n",
       "    </tr>\n",
       "  </tbody>\n",
       "</table>\n",
       "</div>"
      ],
      "text/plain": [
       "                    매출액\n",
       "분기                     \n",
       "2022-Q4  70464575000000\n",
       "2022-Q3  76781680000000\n",
       "2022-Q2  77203607000000"
      ]
     },
     "execution_count": 21,
     "metadata": {},
     "output_type": "execute_result"
    }
   ],
   "source": [
    "# 라이브러리 불러오기\n",
    "import requests\n",
    "import pandas as pd\n",
    "\n",
    "# 예제 2.7의 get_financials() 함수를 사용 (Dapada apiKey 필요)\n",
    "\n",
    "my_key = \"----발급받은 API 키를 입력-----\"\n",
    "\n",
    "# 특정 종목(stockCode)의 재무항목(indicatorName) 데이터를 가져오는 함수를 정의\n",
    "def get_financials(stockCode, indicatorName, apiKey, consolidated=True, ttm=True):\n",
    "    \n",
    "    if consolidated:   # 연결 기준\n",
    "        if ttm:        # Trailing 12 Months (12개월 누적)\n",
    "            url = f\"https://api.dapada.io/company/getConsolidatedFinancialDataByTTM?apiKey={apiKey}&indicatorName={indicatorName}&stockCode={stockCode}\"            \n",
    "        else:          # 해당 분기 기준 (3개월 집계)\n",
    "            url = f\"https://api.dapada.io/company/getConsolidatedFinancialDataByCUR?apiKey={apiKey}&indicatorName={indicatorName}&stockCode={stockCode}\"       \n",
    "            \n",
    "    else:              # 별도 기준\n",
    "        if ttm:        # Trailing 12 Months (12개월 누적)\n",
    "            url = f\"https://api.dapada.io/company/getSeparatedFinancialDataByTTM?apiKey={apiKey}&indicatorName={indicatorName}&stockCode={stockCode}\"            \n",
    "        else:          # 해당 분기 기준 (3개월 집계)\n",
    "            url = f\"https://api.dapada.io/company/getSeparatedFinancialDataByCUR?apiKey={apiKey}&indicatorName={indicatorName}&stockCode={stockCode}\"       \n",
    "           \n",
    "    headers = {\"apiKey\": f\"{apiKey}\"}\n",
    "    response = requests.get(url, headers=headers)\n",
    "    result = response.json()\n",
    "    return pd.DataFrame(result)\n",
    "\n",
    "# 삼성전자(005930)의 연결 재무제표 (분기 기준)에서 '매출액' 항목의 데이터 수집\n",
    "df_revenue = get_financials(stockCode='005930', \n",
    "                            indicatorName='매출액', \n",
    "                            apiKey=my_key, \n",
    "                            consolidated=True, \n",
    "                            ttm=False)\n",
    "\n",
    "\n",
    "# 열 이름 변경\n",
    "df_revenue.columns = ['매출액', '분기']\n",
    "\n",
    "# 분기 열을 인덱스로 설정\n",
    "df_revenue = df_revenue.set_index('분기', drop=True)\n",
    "\n",
    "# 2022년 데이터만 선택\n",
    "df_revenue = df_revenue[df_revenue.index.str.startswith('2022')]\n",
    "\n",
    "df_revenue"
   ]
  },
  {
   "cell_type": "code",
   "execution_count": 23,
   "id": "d38c03af-361a-438b-a7f1-0729683d9365",
   "metadata": {
    "tags": []
   },
   "outputs": [
    {
     "data": {
      "text/html": [
       "<div>\n",
       "<style scoped>\n",
       "    .dataframe tbody tr th:only-of-type {\n",
       "        vertical-align: middle;\n",
       "    }\n",
       "\n",
       "    .dataframe tbody tr th {\n",
       "        vertical-align: top;\n",
       "    }\n",
       "\n",
       "    .dataframe thead th {\n",
       "        text-align: right;\n",
       "    }\n",
       "</style>\n",
       "<table border=\"1\" class=\"dataframe\">\n",
       "  <thead>\n",
       "    <tr style=\"text-align: right;\">\n",
       "      <th></th>\n",
       "      <th>영업이익</th>\n",
       "    </tr>\n",
       "    <tr>\n",
       "      <th>분기</th>\n",
       "      <th></th>\n",
       "    </tr>\n",
       "  </thead>\n",
       "  <tbody>\n",
       "    <tr>\n",
       "      <th>2023-Q3</th>\n",
       "      <td>2433534000000</td>\n",
       "    </tr>\n",
       "    <tr>\n",
       "      <th>2022-Q3</th>\n",
       "      <td>9389198000000</td>\n",
       "    </tr>\n",
       "  </tbody>\n",
       "</table>\n",
       "</div>"
      ],
      "text/plain": [
       "                  영업이익\n",
       "분기                    \n",
       "2023-Q3  2433534000000\n",
       "2022-Q3  9389198000000"
      ]
     },
     "execution_count": 23,
     "metadata": {},
     "output_type": "execute_result"
    }
   ],
   "source": [
    "# 삼성전자(005930)의 연결 재무제표 (분기 기준)에서 '영업이익' 항목의 데이터 수집\n",
    "df_margin = get_financials(stockCode='005930', \n",
    "                           indicatorName='영업이익', \n",
    "                           apiKey=my_key, \n",
    "                           consolidated=True, \n",
    "                           ttm=False)\n",
    "\n",
    "# 열 이름 변경\n",
    "df_margin.columns = ['영업이익', '분기']\n",
    "\n",
    "# 분기 열을 인덱스로 설정\n",
    "df_margin = df_margin.set_index('분기', drop=True)\n",
    "\n",
    "# 3분기 데이터만 선택\n",
    "df_margin = df_margin[df_margin.index.str.endswith('Q3')]\n",
    "\n",
    "df_margin"
   ]
  },
  {
   "cell_type": "code",
   "execution_count": 24,
   "id": "8a77a7ee-83d7-4b2c-b5f3-3e73e8ed44dd",
   "metadata": {
    "tags": []
   },
   "outputs": [
    {
     "data": {
      "text/html": [
       "<div>\n",
       "<style scoped>\n",
       "    .dataframe tbody tr th:only-of-type {\n",
       "        vertical-align: middle;\n",
       "    }\n",
       "\n",
       "    .dataframe tbody tr th {\n",
       "        vertical-align: top;\n",
       "    }\n",
       "\n",
       "    .dataframe thead th {\n",
       "        text-align: right;\n",
       "    }\n",
       "</style>\n",
       "<table border=\"1\" class=\"dataframe\">\n",
       "  <thead>\n",
       "    <tr style=\"text-align: right;\">\n",
       "      <th></th>\n",
       "      <th>매출액</th>\n",
       "      <th>영업이익</th>\n",
       "    </tr>\n",
       "    <tr>\n",
       "      <th>분기</th>\n",
       "      <th></th>\n",
       "      <th></th>\n",
       "    </tr>\n",
       "  </thead>\n",
       "  <tbody>\n",
       "    <tr>\n",
       "      <th>2022-Q4</th>\n",
       "      <td>70464575000000</td>\n",
       "      <td>NaN</td>\n",
       "    </tr>\n",
       "    <tr>\n",
       "      <th>2022-Q3</th>\n",
       "      <td>76781680000000</td>\n",
       "      <td>9.389198e+12</td>\n",
       "    </tr>\n",
       "    <tr>\n",
       "      <th>2022-Q2</th>\n",
       "      <td>77203607000000</td>\n",
       "      <td>NaN</td>\n",
       "    </tr>\n",
       "  </tbody>\n",
       "</table>\n",
       "</div>"
      ],
      "text/plain": [
       "                    매출액          영업이익\n",
       "분기                                   \n",
       "2022-Q4  70464575000000           NaN\n",
       "2022-Q3  76781680000000  9.389198e+12\n",
       "2022-Q2  77203607000000           NaN"
      ]
     },
     "execution_count": 24,
     "metadata": {},
     "output_type": "execute_result"
    }
   ],
   "source": [
    "# 데이터프레임 결합(join)\n",
    "df_revenue_margin = df_revenue.join(df_margin)\n",
    "df_revenue_margin"
   ]
  },
  {
   "cell_type": "code",
   "execution_count": 25,
   "id": "98a3ec5a-069c-481d-8660-5cdc62c44d25",
   "metadata": {
    "tags": []
   },
   "outputs": [
    {
     "data": {
      "text/html": [
       "<div>\n",
       "<style scoped>\n",
       "    .dataframe tbody tr th:only-of-type {\n",
       "        vertical-align: middle;\n",
       "    }\n",
       "\n",
       "    .dataframe tbody tr th {\n",
       "        vertical-align: top;\n",
       "    }\n",
       "\n",
       "    .dataframe thead th {\n",
       "        text-align: right;\n",
       "    }\n",
       "</style>\n",
       "<table border=\"1\" class=\"dataframe\">\n",
       "  <thead>\n",
       "    <tr style=\"text-align: right;\">\n",
       "      <th></th>\n",
       "      <th>매출액</th>\n",
       "      <th>영업이익</th>\n",
       "    </tr>\n",
       "    <tr>\n",
       "      <th>분기</th>\n",
       "      <th></th>\n",
       "      <th></th>\n",
       "    </tr>\n",
       "  </thead>\n",
       "  <tbody>\n",
       "    <tr>\n",
       "      <th>2022-Q3</th>\n",
       "      <td>76781680000000</td>\n",
       "      <td>9389198000000</td>\n",
       "    </tr>\n",
       "  </tbody>\n",
       "</table>\n",
       "</div>"
      ],
      "text/plain": [
       "                    매출액           영업이익\n",
       "분기                                    \n",
       "2022-Q3  76781680000000  9389198000000"
      ]
     },
     "execution_count": 25,
     "metadata": {},
     "output_type": "execute_result"
    }
   ],
   "source": [
    "# 데이터프레임 결합(join) - 교집합\n",
    "df_revenue_margin2 = df_revenue.join(df_margin, how='inner')\n",
    "df_revenue_margin2"
   ]
  }
 ],
 "metadata": {
  "kernelspec": {
   "display_name": "pandas",
   "language": "python",
   "name": "pandas"
  },
  "language_info": {
   "codemirror_mode": {
    "name": "ipython",
    "version": 3
   },
   "file_extension": ".py",
   "mimetype": "text/x-python",
   "name": "python",
   "nbconvert_exporter": "python",
   "pygments_lexer": "ipython3",
   "version": "3.10.13"
  }
 },
 "nbformat": 4,
 "nbformat_minor": 5
}
