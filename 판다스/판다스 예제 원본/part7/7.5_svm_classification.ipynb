{
 "cells": [
  {
   "cell_type": "code",
   "execution_count": 1,
   "id": "dd7dc8f2-7a23-4748-ac17-1855c7e02a84",
   "metadata": {
    "tags": []
   },
   "outputs": [
    {
     "name": "stdout",
     "output_type": "stream",
     "text": [
      "train data 개수:  (474, 9)\n",
      "test data 개수:  (204, 9)\n"
     ]
    }
   ],
   "source": [
    "# 기본 라이브러리 불러오기\n",
    "import pandas as pd\n",
    "import numpy as np\n",
    "import matplotlib.pyplot as plt\n",
    "import seaborn as sns\n",
    "\n",
    "'''\n",
    "[Step 1] 데이터 준비 - Seaborn에서 제공하는 titanic 데이터셋 가져오기\n",
    "'''\n",
    "\n",
    "# load_dataset 함수를 사용하여 데이터프레임으로 변환\n",
    "df = sns.load_dataset('titanic')\n",
    "\n",
    "\n",
    "'''\n",
    "[Step 2 ~ 3] 데이터 전처리\n",
    "'''\n",
    "\n",
    "# 중복 데이터 제거\n",
    "df = df.drop_duplicates()\n",
    "\n",
    "# NaN값이 많은 deck 열을 삭제, embarked와 내용이 겹치는 embark_town 열을 삭제\n",
    "rdf = df.drop(['deck', 'embark_town'], axis=1)  \n",
    "\n",
    "# age 열에 나이 데이터가 없는 모든 행을 삭제 - NaN 값\n",
    "rdf = rdf.dropna(subset=['age'], how='any', axis=0)  \n",
    "\n",
    "# embarked 열의 NaN값을 승선도시 중에서 가장 많이 출현한 값으로 치환하기\n",
    "most_freq = rdf['embarked'].mode()[0]    \n",
    "rdf['embarked'] = rdf['embarked'].fillna(most_freq)\n",
    "\n",
    "'''\n",
    "[Step 4] 변수 선택\n",
    "'''\n",
    "\n",
    "# 분석에 활용할 열(속성)을 선택 \n",
    "ndf = rdf[['survived', 'pclass', 'sex', 'age', 'sibsp', 'parch', 'embarked']]\n",
    "\n",
    "# 원핫인코딩 - 범주형 데이터를 모형이 인식할 수 있도록 숫자형으로 변환\n",
    "onehot_sex = pd.get_dummies(ndf['sex'])\n",
    "ndf = pd.concat([ndf, onehot_sex], axis=1)\n",
    "\n",
    "onehot_embarked = pd.get_dummies(ndf['embarked'], prefix='town')\n",
    "ndf = pd.concat([ndf, onehot_embarked], axis=1)\n",
    "\n",
    "ndf = ndf.drop(['sex', 'embarked'], axis=1)\n",
    "\n",
    "\n",
    "'''\n",
    "[Step 5] 데이터셋 구분 - 훈련용(train data)/ 검증용(test data)\n",
    "'''\n",
    "\n",
    "# 속성(변수) 선택\n",
    "X = ndf[['pclass', 'age', 'sibsp', 'parch', 'female', 'male', \n",
    "       'town_C', 'town_Q', 'town_S']]  #독립 변수 X\n",
    "y = ndf['survived']                      #종속 변수 Y\n",
    "\n",
    "# 설명 변수 데이터를 정규화(normalization)\n",
    "from sklearn import preprocessing\n",
    "X = preprocessing.StandardScaler().fit(X).transform(X)\n",
    "\n",
    "# train data 와 test data로 구분(7:3 비율)\n",
    "from sklearn.model_selection import train_test_split\n",
    "X_train, X_test, y_train, y_test = train_test_split(X, y, test_size=0.3, random_state=10) \n",
    "\n",
    "print('train data 개수: ', X_train.shape)\n",
    "print('test data 개수: ', X_test.shape)"
   ]
  },
  {
   "cell_type": "code",
   "execution_count": 2,
   "id": "284a456b-e4f6-46e1-9599-79ca2ed9a7bd",
   "metadata": {
    "tags": []
   },
   "outputs": [
    {
     "name": "stdout",
     "output_type": "stream",
     "text": [
      "[1 1 0 1 0 0 0 1 1 1]\n",
      "[1 1 0 1 0 1 1 1 1 0]\n"
     ]
    }
   ],
   "source": [
    "'''\n",
    "[Step 6] SVM 분류 모형 - sklearn 사용\n",
    "'''\n",
    "\n",
    "# sklearn 라이브러리에서 SVM 분류 모형 가져오기\n",
    "from sklearn import svm\n",
    "\n",
    "# 모형 객체 생성 (kernel='rbf' 적용)\n",
    "svm_model = svm.SVC(kernel='rbf')\n",
    "\n",
    "# train data를 가지고 모형 학습\n",
    "svm_model.fit(X_train, y_train)   \n",
    "\n",
    "# test data를 가지고 y_hat을 예측 (분류) \n",
    "y_hat = svm_model.predict(X_test)\n",
    "\n",
    "print(y_hat[0:10])\n",
    "print(y_test.values[0:10])"
   ]
  },
  {
   "cell_type": "code",
   "execution_count": 3,
   "id": "c1398651-c7a4-4d2f-9362-632957f59f18",
   "metadata": {
    "tags": []
   },
   "outputs": [
    {
     "name": "stdout",
     "output_type": "stream",
     "text": [
      "[[104  19]\n",
      " [ 24  57]]\n"
     ]
    }
   ],
   "source": [
    "# 모형 성능 평가 - Confusion Matrix 계산\n",
    "from sklearn import metrics \n",
    "svm_matrix = metrics.confusion_matrix(y_test, y_hat)  \n",
    "print(svm_matrix)"
   ]
  },
  {
   "cell_type": "code",
   "execution_count": 4,
   "id": "c0fddfbd-1ed2-4a35-9c94-80d9bcd68d4d",
   "metadata": {
    "tags": []
   },
   "outputs": [
    {
     "data": {
      "image/png": "[encoded data removed]",
      "text/plain": [
       "<Figure size 800x600 with 2 Axes>"
      ]
     },
     "metadata": {},
     "output_type": "display_data"
    }
   ],
   "source": [
    "# Confusion Matrix 시각화\n",
    "\n",
    "plt.figure(figsize=(8, 6))\n",
    "sns.heatmap(svm_matrix, annot=True, fmt='d', cmap='OrRd', \n",
    "            xticklabels=['Negative', 'Positive'], \n",
    "            yticklabels=['Negative', 'Positive'])\n",
    "\n",
    "plt.title('Confusion Matrix')\n",
    "plt.ylabel('Actual label')\n",
    "plt.xlabel('Predicted label')\n",
    "plt.show()"
   ]
  },
  {
   "cell_type": "code",
   "execution_count": 5,
   "id": "952966e6-2f13-4d27-8d4a-49a0c03da781",
   "metadata": {
    "tags": []
   },
   "outputs": [
    {
     "name": "stdout",
     "output_type": "stream",
     "text": [
      "              precision    recall  f1-score   support\n",
      "\n",
      "           0       0.81      0.85      0.83       123\n",
      "           1       0.75      0.70      0.73        81\n",
      "\n",
      "    accuracy                           0.79       204\n",
      "   macro avg       0.78      0.77      0.78       204\n",
      "weighted avg       0.79      0.79      0.79       204\n",
      "\n"
     ]
    }
   ],
   "source": [
    "# 모형 성능 평가 - 평가지표 계산\n",
    "svm_report = metrics.classification_report(y_test, y_hat)            \n",
    "print(svm_report)"
   ]
  }
 ],
 "metadata": {
  "kernelspec": {
   "display_name": "pandas",
   "language": "python",
   "name": "pandas"
  },
  "language_info": {
   "codemirror_mode": {
    "name": "ipython",
    "version": 3
   },
   "file_extension": ".py",
   "mimetype": "text/x-python",
   "name": "python",
   "nbconvert_exporter": "python",
   "pygments_lexer": "ipython3",
   "version": "3.10.13"
  }
 },
 "nbformat": 4,
 "nbformat_minor": 5
}
