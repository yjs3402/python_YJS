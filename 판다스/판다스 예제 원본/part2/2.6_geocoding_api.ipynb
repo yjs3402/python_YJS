{
 "cells": [
  {
   "cell_type": "code",
   "execution_count": 1,
   "metadata": {
    "executionInfo": {
     "elapsed": 2337,
     "status": "ok",
     "timestamp": 1706180950836,
     "user": {
      "displayName": "Steve",
      "userId": "13015281013241816762"
     },
     "user_tz": -540
    },
    "id": "PSJ0UQVYOkXc",
    "tags": []
   },
   "outputs": [],
   "source": [
    "# 라이브러리 가져오기\n",
    "import requests\n",
    "import pandas as pd"
   ]
  },
  {
   "cell_type": "code",
   "execution_count": 2,
   "metadata": {
    "tags": []
   },
   "outputs": [],
   "source": [
    "my_key = \"----발급받은 API 키를 입력-----\""
   ]
  },
  {
   "cell_type": "code",
   "execution_count": 3,
   "metadata": {
    "tags": []
   },
   "outputs": [],
   "source": [
    "# Kakao Map API 통해 위도, 경도 데이터 가져오는 함수를 정의\n",
    "def get_geocoding(place):\n",
    "    url = f\"https://dapi.kakao.com/v2/local/search/address.json?query={place}\"\n",
    "    headers = {\"Authorization\": f\"KakaoAK {my_key}\"}\n",
    "    response = requests.get(url, headers=headers)\n",
    "    result = response.json()\n",
    "    return result[\"documents\"][0][\"y\"], result[\"documents\"][0][\"x\"]"
   ]
  },
  {
   "cell_type": "code",
   "execution_count": 4,
   "metadata": {
    "tags": []
   },
   "outputs": [
    {
     "name": "stdout",
     "output_type": "stream",
     "text": [
      "1 서울특별시 종로구 세종대로 175\n",
      "2 서울특별시 서초구 서초동 700\n",
      "3 부산광역시 해운대구 해운대해변로 264\n"
     ]
    },
    {
     "data": {
      "text/html": [
       "<div>\n",
       "<style scoped>\n",
       "    .dataframe tbody tr th:only-of-type {\n",
       "        vertical-align: middle;\n",
       "    }\n",
       "\n",
       "    .dataframe tbody tr th {\n",
       "        vertical-align: top;\n",
       "    }\n",
       "\n",
       "    .dataframe thead th {\n",
       "        text-align: right;\n",
       "    }\n",
       "</style>\n",
       "<table border=\"1\" class=\"dataframe\">\n",
       "  <thead>\n",
       "    <tr style=\"text-align: right;\">\n",
       "      <th></th>\n",
       "      <th>위도</th>\n",
       "      <th>경도</th>\n",
       "    </tr>\n",
       "  </thead>\n",
       "  <tbody>\n",
       "    <tr>\n",
       "      <th>서울특별시 종로구 세종대로 175</th>\n",
       "      <td>37.5718478584908</td>\n",
       "      <td>126.976168275947</td>\n",
       "    </tr>\n",
       "    <tr>\n",
       "      <th>서울특별시 서초구 서초동 700</th>\n",
       "      <td>37.4810862955299</td>\n",
       "      <td>127.015245160054</td>\n",
       "    </tr>\n",
       "    <tr>\n",
       "      <th>부산광역시 해운대구 해운대해변로 264</th>\n",
       "      <td>35.1591069824231</td>\n",
       "      <td>129.160283786856</td>\n",
       "    </tr>\n",
       "  </tbody>\n",
       "</table>\n",
       "</div>"
      ],
      "text/plain": [
       "                                     위도                경도\n",
       "서울특별시 종로구 세종대로 175     37.5718478584908  126.976168275947\n",
       "서울특별시 서초구 서초동 700      37.4810862955299  127.015245160054\n",
       "부산광역시 해운대구 해운대해변로 264  35.1591069824231  129.160283786856"
      ]
     },
     "execution_count": 4,
     "metadata": {},
     "output_type": "execute_result"
    }
   ],
   "source": [
    "lat = []  #위도\n",
    "lng = []  #경도\n",
    "\n",
    "# 장소(주소) 리스트\n",
    "places = [\"서울특별시 종로구 세종대로 175\", \n",
    "          \"서울특별시 서초구 서초동 700\", \n",
    "          \"부산광역시 해운대구 해운대해변로 264\"]\n",
    "\n",
    "i=0\n",
    "for place in places:   \n",
    "    i = i + 1\n",
    "    try:\n",
    "        print(i, place)\n",
    "        # get_geocoding 함수의 리턴값 호출하여 geo_location 변수에 저장\n",
    "        place_lat, place_lon = get_geocoding(place)\n",
    "        lat.append(place_lat)\n",
    "        lng.append(place_lon)\n",
    "        \n",
    "    except:\n",
    "        lat.append('')\n",
    "        lng.append('')\n",
    "\n",
    "# 데이터프레임으로 변환하기\n",
    "df = pd.DataFrame({'위도':lat, '경도':lng}, index=places)\n",
    "\n",
    "df"
   ]
  }
 ],
 "metadata": {
  "colab": {
   "authorship_tag": "ABX9TyMmPDgPDlEQ9VJpxhthoipr",
   "provenance": []
  },
  "kernelspec": {
   "display_name": "pandas",
   "language": "python",
   "name": "pandas"
  },
  "language_info": {
   "codemirror_mode": {
    "name": "ipython",
    "version": 3
   },
   "file_extension": ".py",
   "mimetype": "text/x-python",
   "name": "python",
   "nbconvert_exporter": "python",
   "pygments_lexer": "ipython3",
   "version": "3.10.13"
  }
 },
 "nbformat": 4,
 "nbformat_minor": 4
}
