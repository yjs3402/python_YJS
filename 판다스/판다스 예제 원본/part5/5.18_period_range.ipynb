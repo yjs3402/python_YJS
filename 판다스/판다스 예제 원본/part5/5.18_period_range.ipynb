{
 "cells": [
  {
   "cell_type": "code",
   "execution_count": 2,
   "id": "bb12202f-d4dd-41d5-b8bd-f4c78b69b0f9",
   "metadata": {
    "tags": []
   },
   "outputs": [
    {
     "name": "stdout",
     "output_type": "stream",
     "text": [
      "PeriodIndex(['2024-01', '2024-02', '2024-03'], dtype='period[M]')\n"
     ]
    }
   ],
   "source": [
    "# 라이브러리 불러오기\n",
    "import pandas as pd\n",
    "\n",
    "# Period 배열 만들기 - 1개월 주기\n",
    "pr_m = pd.period_range(start='2024-01-01',     # 날짜 범위의 시작\n",
    "                   end=None,                   # 날짜 범위의 끝\n",
    "                   periods=3,                  # 생성할 Period 개수\n",
    "                   freq='M')                   # 주기 (M: 월)\n",
    "print(pr_m)"
   ]
  },
  {
   "cell_type": "code",
   "execution_count": 3,
   "id": "d23eb7f2-9d77-4c84-ab1e-05e2c6eb0e4a",
   "metadata": {
    "tags": []
   },
   "outputs": [
    {
     "name": "stdout",
     "output_type": "stream",
     "text": [
      "PeriodIndex(['2024-01-01 00:00', '2024-01-01 01:00', '2024-01-01 02:00'], dtype='period[h]')\n"
     ]
    }
   ],
   "source": [
    "# Period 배열 만들기 - 1시간 주기\n",
    "pr_h = pd.period_range(start='2024-01-01',     # 날짜 범위의 시작\n",
    "                   end=None,                   # 날짜 범위의 끝\n",
    "                   periods=3,                  # 생성할 Period 개수\n",
    "                   freq='h')                   # 주기 (h: 시간)\n",
    "print(pr_h)"
   ]
  },
  {
   "cell_type": "code",
   "execution_count": 4,
   "id": "5074fe2c-867a-4d35-ab6b-f2b5f525ed0d",
   "metadata": {
    "tags": []
   },
   "outputs": [
    {
     "name": "stdout",
     "output_type": "stream",
     "text": [
      "PeriodIndex(['2024-01-01', '2024-01-03', '2024-01-05'], dtype='period[2D]')\n"
     ]
    }
   ],
   "source": [
    "# Period 배열 만들기 - 2일 주기\n",
    "pr_2h = pd.period_range(start='2024-01-01',    # 날짜 범위의 시작\n",
    "                   end=None,                   # 날짜 범위의 끝\n",
    "                   periods=3,                  # 생성할 Period 개수\n",
    "                   freq='2d')                  # 주기 (2d: 2일)\n",
    "print(pr_2h)"
   ]
  }
 ],
 "metadata": {
  "kernelspec": {
   "display_name": "pandas",
   "language": "python",
   "name": "pandas"
  },
  "language_info": {
   "codemirror_mode": {
    "name": "ipython",
    "version": 3
   },
   "file_extension": ".py",
   "mimetype": "text/x-python",
   "name": "python",
   "nbconvert_exporter": "python",
   "pygments_lexer": "ipython3",
   "version": "3.10.13"
  }
 },
 "nbformat": 4,
 "nbformat_minor": 5
}
