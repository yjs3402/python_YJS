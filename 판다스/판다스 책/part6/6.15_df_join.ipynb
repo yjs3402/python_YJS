{
 "cells": [
  {
   "cell_type": "code",
   "execution_count": 10,
   "id": "604038a4-3f33-469e-9b4a-c02118edaa74",
   "metadata": {},
   "outputs": [
    {
     "data": {
      "text/html": [
       "<div>\n",
       "<style scoped>\n",
       "    .dataframe tbody tr th:only-of-type {\n",
       "        vertical-align: middle;\n",
       "    }\n",
       "\n",
       "    .dataframe tbody tr th {\n",
       "        vertical-align: top;\n",
       "    }\n",
       "\n",
       "    .dataframe thead th {\n",
       "        text-align: right;\n",
       "    }\n",
       "</style>\n",
       "<table border=\"1\" class=\"dataframe\">\n",
       "  <thead>\n",
       "    <tr style=\"text-align: right;\">\n",
       "      <th></th>\n",
       "      <th>매출액</th>\n",
       "    </tr>\n",
       "    <tr>\n",
       "      <th>분기</th>\n",
       "      <th></th>\n",
       "    </tr>\n",
       "  </thead>\n",
       "  <tbody>\n",
       "    <tr>\n",
       "      <th>2023-Q3</th>\n",
       "      <td>67404652000000</td>\n",
       "    </tr>\n",
       "    <tr>\n",
       "      <th>2023-Q2</th>\n",
       "      <td>60005533000000</td>\n",
       "    </tr>\n",
       "    <tr>\n",
       "      <th>2023-Q1</th>\n",
       "      <td>63745371000000</td>\n",
       "    </tr>\n",
       "  </tbody>\n",
       "</table>\n",
       "</div>"
      ],
      "text/plain": [
       "                    매출액\n",
       "분기                     \n",
       "2023-Q3  67404652000000\n",
       "2023-Q2  60005533000000\n",
       "2023-Q1  63745371000000"
      ]
     },
     "execution_count": 10,
     "metadata": {},
     "output_type": "execute_result"
    }
   ],
   "source": [
    "\n",
    "# 라이브러리 불러오기\n",
    "import requests\n",
    "import pandas as pd\n",
    "\n",
    "# 예제 2.7의 get_financials() 함수를 사용 (Dapada apiKey 필요)\n",
    "\n",
    "my_key = \"dpd-e3d49298-fa4dd00070825296fb478bfbb4cf0d57718f3992a30727c9bf58f1eba4c06317\"\n",
    "\n",
    "# 특정 종목(stockCode)의 재무항목(indicatorName) 데이터를 가져오는 함수를 정의\n",
    "def get_financials(stockCode, indicatorName, apiKey, consolidated=True, ttm=True):\n",
    "    \n",
    "    if consolidated:   # 연결 기준\n",
    "        if ttm:        # Trailing 12 Months (12개월 누적)\n",
    "            url = f\"https://api.dapada.io/company/getConsolidatedFinancialDataByTTM?indicatorName={indicatorName}&stockCode={stockCode}\"            \n",
    "        else:          # 해당 분기 기준 (3개월 집계)\n",
    "            url = f\"https://api.dapada.io/company/getConsolidatedFinancialDataByCUR?indicatorName={indicatorName}&stockCode={stockCode}\"       \n",
    "            \n",
    "    else:              # 별도 기준\n",
    "        if ttm:        # Trailing 12 Months (12개월 누적)\n",
    "            url = f\"https://api.dapada.io/company/getSeparatedFinancialDataByTTM?indicatorName={indicatorName}&stockCode={stockCode}\"            \n",
    "        else:          # 해당 분기 기준 (3개월 집계)\n",
    "            url = f\"https://api.dapada.io/company/getSeparatedFinancialDataByCUR?indicatorName={indicatorName}&stockCode={stockCode}\"       \n",
    "           \n",
    "    headers = {\"Authorization\": f\"{apiKey}\"}\n",
    "    response = requests.get(url, headers=headers)\n",
    "    result = response.json()\n",
    "    return pd.DataFrame(result)\n",
    "\n",
    "# 삼성전자(005930)의 연결 재무제표 (분기 기준)에서 '매출액' 항목의 데이터 수집\n",
    "df_revenue = get_financials(stockCode='005930',\n",
    "                            indicatorName='매출액',\n",
    "                            apiKey=my_key,\n",
    "                            consolidated=True,\n",
    "                            ttm=False)\n",
    "\n",
    "\n",
    "# 열 이름 변경\n",
    "df_revenue.columns = ['매출액', '분기']\n",
    "\n",
    "# 분기 열을 인덱스로 설정\n",
    "df_revenue = df_revenue.set_index('분기', drop=True)\n",
    "\n",
    "# 2022년 데이터만 선택\n",
    "df_revenue = df_revenue[df_revenue.index.str.startswith('2023')]\n",
    "\n",
    "df_revenue"
   ]
  },
  {
   "cell_type": "code",
   "execution_count": 13,
   "id": "1fc972af-b3c1-4e74-8456-118f9187d7ca",
   "metadata": {},
   "outputs": [
    {
     "data": {
      "text/html": [
       "<div>\n",
       "<style scoped>\n",
       "    .dataframe tbody tr th:only-of-type {\n",
       "        vertical-align: middle;\n",
       "    }\n",
       "\n",
       "    .dataframe tbody tr th {\n",
       "        vertical-align: top;\n",
       "    }\n",
       "\n",
       "    .dataframe thead th {\n",
       "        text-align: right;\n",
       "    }\n",
       "</style>\n",
       "<table border=\"1\" class=\"dataframe\">\n",
       "  <thead>\n",
       "    <tr style=\"text-align: right;\">\n",
       "      <th></th>\n",
       "      <th>영업이익</th>\n",
       "    </tr>\n",
       "    <tr>\n",
       "      <th>분기</th>\n",
       "      <th></th>\n",
       "    </tr>\n",
       "  </thead>\n",
       "  <tbody>\n",
       "    <tr>\n",
       "      <th>2023-Q3</th>\n",
       "      <td>2433534000000</td>\n",
       "    </tr>\n",
       "  </tbody>\n",
       "</table>\n",
       "</div>"
      ],
      "text/plain": [
       "                  영업이익\n",
       "분기                    \n",
       "2023-Q3  2433534000000"
      ]
     },
     "execution_count": 13,
     "metadata": {},
     "output_type": "execute_result"
    }
   ],
   "source": [
    "# 삼성전자(005930)의 연결 재무제표(분기 기준)에서 '영업이익' 항목의 데이터 수집\n",
    "df_margin = get_financials(stockCode='005930',\n",
    "                           indicatorName='영업이익',\n",
    "                           apiKey=my_key,\n",
    "                           consolidated=True,\n",
    "                           ttm=False)\n",
    "\n",
    "# 열 이름 변경\n",
    "df_margin.columns = ['영업이익', '분기']\n",
    "\n",
    "# 분기 열을 인데그솔 설정\n",
    "df_margin = df_margin.set_index('분기', drop=True)\n",
    "\n",
    "# 3분기 데이터만 선택\n",
    "df_margin = df_margin[df_margin.index.str.endswith('Q3')]\n",
    "\n",
    "df_margin"
   ]
  },
  {
   "cell_type": "code",
   "execution_count": 14,
   "id": "7583a194-49aa-4a64-ba20-2c2f6f491262",
   "metadata": {},
   "outputs": [
    {
     "data": {
      "text/html": [
       "<div>\n",
       "<style scoped>\n",
       "    .dataframe tbody tr th:only-of-type {\n",
       "        vertical-align: middle;\n",
       "    }\n",
       "\n",
       "    .dataframe tbody tr th {\n",
       "        vertical-align: top;\n",
       "    }\n",
       "\n",
       "    .dataframe thead th {\n",
       "        text-align: right;\n",
       "    }\n",
       "</style>\n",
       "<table border=\"1\" class=\"dataframe\">\n",
       "  <thead>\n",
       "    <tr style=\"text-align: right;\">\n",
       "      <th></th>\n",
       "      <th>매출액</th>\n",
       "      <th>영업이익</th>\n",
       "    </tr>\n",
       "    <tr>\n",
       "      <th>분기</th>\n",
       "      <th></th>\n",
       "      <th></th>\n",
       "    </tr>\n",
       "  </thead>\n",
       "  <tbody>\n",
       "    <tr>\n",
       "      <th>2023-Q3</th>\n",
       "      <td>67404652000000</td>\n",
       "      <td>2.433534e+12</td>\n",
       "    </tr>\n",
       "    <tr>\n",
       "      <th>2023-Q2</th>\n",
       "      <td>60005533000000</td>\n",
       "      <td>NaN</td>\n",
       "    </tr>\n",
       "    <tr>\n",
       "      <th>2023-Q1</th>\n",
       "      <td>63745371000000</td>\n",
       "      <td>NaN</td>\n",
       "    </tr>\n",
       "  </tbody>\n",
       "</table>\n",
       "</div>"
      ],
      "text/plain": [
       "                    매출액          영업이익\n",
       "분기                                   \n",
       "2023-Q3  67404652000000  2.433534e+12\n",
       "2023-Q2  60005533000000           NaN\n",
       "2023-Q1  63745371000000           NaN"
      ]
     },
     "execution_count": 14,
     "metadata": {},
     "output_type": "execute_result"
    }
   ],
   "source": [
    "# 데이터프레임 결합(join)\n",
    "df_revenue_margin = df_revenue.join(df_margin)\n",
    "df_revenue_margin"
   ]
  },
  {
   "cell_type": "code",
   "execution_count": 16,
   "id": "831076cd-3a16-4baf-a919-8675a55ccc52",
   "metadata": {},
   "outputs": [
    {
     "data": {
      "text/html": [
       "<div>\n",
       "<style scoped>\n",
       "    .dataframe tbody tr th:only-of-type {\n",
       "        vertical-align: middle;\n",
       "    }\n",
       "\n",
       "    .dataframe tbody tr th {\n",
       "        vertical-align: top;\n",
       "    }\n",
       "\n",
       "    .dataframe thead th {\n",
       "        text-align: right;\n",
       "    }\n",
       "</style>\n",
       "<table border=\"1\" class=\"dataframe\">\n",
       "  <thead>\n",
       "    <tr style=\"text-align: right;\">\n",
       "      <th></th>\n",
       "      <th>매출액</th>\n",
       "      <th>영업이익</th>\n",
       "    </tr>\n",
       "    <tr>\n",
       "      <th>분기</th>\n",
       "      <th></th>\n",
       "      <th></th>\n",
       "    </tr>\n",
       "  </thead>\n",
       "  <tbody>\n",
       "    <tr>\n",
       "      <th>2023-Q3</th>\n",
       "      <td>67404652000000</td>\n",
       "      <td>2433534000000</td>\n",
       "    </tr>\n",
       "  </tbody>\n",
       "</table>\n",
       "</div>"
      ],
      "text/plain": [
       "                    매출액           영업이익\n",
       "분기                                    \n",
       "2023-Q3  67404652000000  2433534000000"
      ]
     },
     "execution_count": 16,
     "metadata": {},
     "output_type": "execute_result"
    }
   ],
   "source": [
    "# 데이터프레임 결합(join) - 교집합\n",
    "df_revenue_margin2 = df_revenue.join(df_margin, how='inner')\n",
    "df_revenue_margin2"
   ]
  },
  {
   "cell_type": "code",
   "execution_count": null,
   "id": "7d436634-2a53-4e8a-a3e1-f7a2efe99469",
   "metadata": {},
   "outputs": [],
   "source": []
  }
 ],
 "metadata": {
  "kernelspec": {
   "display_name": "pandas",
   "language": "python",
   "name": "pandas"
  },
  "language_info": {
   "codemirror_mode": {
    "name": "ipython",
    "version": 3
   },
   "file_extension": ".py",
   "mimetype": "text/x-python",
   "name": "python",
   "nbconvert_exporter": "python",
   "pygments_lexer": "ipython3",
   "version": "3.12.4"
  }
 },
 "nbformat": 4,
 "nbformat_minor": 5
}
