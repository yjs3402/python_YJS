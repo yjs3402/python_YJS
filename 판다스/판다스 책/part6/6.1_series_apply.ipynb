{
 "cells": [
  {
   "cell_type": "code",
   "execution_count": 2,
   "id": "3e24ce68-4a48-4cd1-9889-50d680789042",
   "metadata": {},
   "outputs": [
    {
     "data": {
      "text/html": [
       "<div>\n",
       "<style scoped>\n",
       "    .dataframe tbody tr th:only-of-type {\n",
       "        vertical-align: middle;\n",
       "    }\n",
       "\n",
       "    .dataframe tbody tr th {\n",
       "        vertical-align: top;\n",
       "    }\n",
       "\n",
       "    .dataframe thead th {\n",
       "        text-align: right;\n",
       "    }\n",
       "</style>\n",
       "<table border=\"1\" class=\"dataframe\">\n",
       "  <thead>\n",
       "    <tr style=\"text-align: right;\">\n",
       "      <th></th>\n",
       "      <th>age</th>\n",
       "      <th>fare</th>\n",
       "    </tr>\n",
       "  </thead>\n",
       "  <tbody>\n",
       "    <tr>\n",
       "      <th>0</th>\n",
       "      <td>22.0</td>\n",
       "      <td>7.2500</td>\n",
       "    </tr>\n",
       "    <tr>\n",
       "      <th>1</th>\n",
       "      <td>38.0</td>\n",
       "      <td>71.2833</td>\n",
       "    </tr>\n",
       "    <tr>\n",
       "      <th>2</th>\n",
       "      <td>26.0</td>\n",
       "      <td>7.9250</td>\n",
       "    </tr>\n",
       "    <tr>\n",
       "      <th>3</th>\n",
       "      <td>35.0</td>\n",
       "      <td>53.1000</td>\n",
       "    </tr>\n",
       "    <tr>\n",
       "      <th>4</th>\n",
       "      <td>35.0</td>\n",
       "      <td>8.0500</td>\n",
       "    </tr>\n",
       "  </tbody>\n",
       "</table>\n",
       "</div>"
      ],
      "text/plain": [
       "    age     fare\n",
       "0  22.0   7.2500\n",
       "1  38.0  71.2833\n",
       "2  26.0   7.9250\n",
       "3  35.0  53.1000\n",
       "4  35.0   8.0500"
      ]
     },
     "execution_count": 2,
     "metadata": {},
     "output_type": "execute_result"
    }
   ],
   "source": [
    "import seaborn as sns\n",
    "import pandas as pd\n",
    "\n",
    "# titanic 데이터셋에서 age, fare 2개 열을 선태가형 데이터프레임 만들기\n",
    "titanic = sns.load_dataset('titanic')\n",
    "df = titanic.loc[:, ['age', 'fare']]\n",
    "\n",
    "df.head()"
   ]
  },
  {
   "cell_type": "code",
   "execution_count": 3,
   "id": "d1af0cb5-caa0-4d0a-b67c-18dcc8980d01",
   "metadata": {},
   "outputs": [
    {
     "name": "stdout",
     "output_type": "stream",
     "text": [
      "20\n",
      "20\n"
     ]
    }
   ],
   "source": [
    "# 사용자 함수 정의\n",
    "def add_10(n):\n",
    "    return n + 10\n",
    "\n",
    "def add_two_obj(a, b):\n",
    "    return  a + b\n",
    "\n",
    "print(add_10(10))\n",
    "print(add_two_obj(10, 10))"
   ]
  },
  {
   "cell_type": "code",
   "execution_count": 4,
   "id": "cdfa4d69-41bd-4aa7-b478-6b5fba2617e0",
   "metadata": {},
   "outputs": [
    {
     "data": {
      "text/plain": [
       "0    32.0\n",
       "1    48.0\n",
       "2    36.0\n",
       "3    45.0\n",
       "4    45.0\n",
       "Name: age, dtype: float64"
      ]
     },
     "execution_count": 4,
     "metadata": {},
     "output_type": "execute_result"
    }
   ],
   "source": [
    "# 시리즈 객체에 적용\n",
    "sr1 = df['age'].apply(add_10)\n",
    "sr1.head()"
   ]
  },
  {
   "cell_type": "code",
   "execution_count": 5,
   "id": "45dcb909-b4f3-488a-bd14-cacd6f1c6be7",
   "metadata": {},
   "outputs": [
    {
     "data": {
      "text/plain": [
       "0    32.0\n",
       "1    48.0\n",
       "2    36.0\n",
       "3    45.0\n",
       "4    45.0\n",
       "Name: age, dtype: float64"
      ]
     },
     "execution_count": 5,
     "metadata": {},
     "output_type": "execute_result"
    }
   ],
   "source": [
    "# 람다 함수 활용: 시리즈 객체에 적용\n",
    "sr2 = df['age'].apply(lambda n: n + 10)\n",
    "sr2.head()"
   ]
  },
  {
   "cell_type": "code",
   "execution_count": 6,
   "id": "cef5e958-a1b7-4c54-9a7a-01f8cd7b1fd1",
   "metadata": {},
   "outputs": [
    {
     "data": {
      "text/plain": [
       "0    32.0\n",
       "1    48.0\n",
       "2    36.0\n",
       "3    45.0\n",
       "4    45.0\n",
       "Name: age, dtype: float64"
      ]
     },
     "execution_count": 6,
     "metadata": {},
     "output_type": "execute_result"
    }
   ],
   "source": [
    "# 함수의 매개변수가 2개 이상인 경우(예: 시리즈 + 숫자)\n",
    "sr3 = df['age'].apply(add_two_obj, b=10)\n",
    "sr3.head()"
   ]
  },
  {
   "cell_type": "code",
   "execution_count": 8,
   "id": "f3362235-08aa-4fed-b856-87fb682d40ed",
   "metadata": {},
   "outputs": [
    {
     "data": {
      "text/plain": [
       "0    32.0\n",
       "1    48.0\n",
       "2    36.0\n",
       "3    45.0\n",
       "4    45.0\n",
       "Name: age, dtype: float64"
      ]
     },
     "execution_count": 8,
     "metadata": {},
     "output_type": "execute_result"
    }
   ],
   "source": [
    "# 함수의 매개변수가 2개 이상인 경우(람다 함수 활용)\n",
    "sr4 = df['age'].apply(lambda a, b: a + b, b=10)\n",
    "sr4.head()"
   ]
  },
  {
   "cell_type": "code",
   "execution_count": 9,
   "id": "bab37911-48c3-4294-afb0-67639101eb13",
   "metadata": {},
   "outputs": [
    {
     "data": {
      "text/plain": [
       "0    False\n",
       "1     True\n",
       "2    False\n",
       "3     True\n",
       "4     True\n",
       "Name: age, dtype: bool"
      ]
     },
     "execution_count": 9,
     "metadata": {},
     "output_type": "execute_result"
    }
   ],
   "source": [
    "# 시리즈 객체에 함수를 적용\n",
    "def over_thirty(age):\n",
    "    return age > 30\n",
    "\n",
    "sr_map = df['age'].map(over_thirty)\n",
    "sr_map.head()"
   ]
  },
  {
   "cell_type": "code",
   "execution_count": 10,
   "id": "12931540-7fae-47eb-9511-3114e8300950",
   "metadata": {},
   "outputs": [
    {
     "data": {
      "text/plain": [
       "0    False\n",
       "1     True\n",
       "2    False\n",
       "3     True\n",
       "4     True\n",
       "Name: age, dtype: bool"
      ]
     },
     "execution_count": 10,
     "metadata": {},
     "output_type": "execute_result"
    }
   ],
   "source": [
    "# 시리즈 객체에 함수를 적용(람다 함수 활용)\n",
    "sr_map2 = df['age'].map(lambda age: True if age > 30 else False)\n",
    "sr_map2.head()"
   ]
  },
  {
   "cell_type": "code",
   "execution_count": 11,
   "id": "149aae0d-440b-4b36-969c-f3a0ebd9c272",
   "metadata": {},
   "outputs": [
    {
     "name": "stdout",
     "output_type": "stream",
     "text": [
      "['male' 'female']\n",
      "0      male\n",
      "1    female\n",
      "2    female\n",
      "3    female\n",
      "4      male\n",
      "Name: sex, dtype: object\n",
      "0    0\n",
      "1    1\n",
      "2    1\n",
      "3    1\n",
      "4    0\n",
      "Name: gender, dtype: int64\n"
     ]
    }
   ],
   "source": [
    "# titanic 데이터의 성별 데이터의 고유값\n",
    "print(titanic['sex'].unique())\n",
    "print(titanic['sex'].head())\n",
    "\n",
    "# 딕셔너리 정의하여 값을 변환(문자열 -> 정수)\n",
    "over_forty_dict = {'male':0, 'female':1}\n",
    "titanic['gender'] = titanic['sex'].map(over_forty_dict)\n",
    "print(titanic['gender'].head())"
   ]
  }
 ],
 "metadata": {
  "kernelspec": {
   "display_name": "pandas",
   "language": "python",
   "name": "pandas"
  },
  "language_info": {
   "codemirror_mode": {
    "name": "ipython",
    "version": 3
   },
   "file_extension": ".py",
   "mimetype": "text/x-python",
   "name": "python",
   "nbconvert_exporter": "python",
   "pygments_lexer": "ipython3",
   "version": "3.10.14"
  }
 },
 "nbformat": 4,
 "nbformat_minor": 5
}
