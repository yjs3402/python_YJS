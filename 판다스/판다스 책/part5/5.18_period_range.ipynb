{
 "cells": [
  {
   "cell_type": "code",
   "execution_count": 1,
   "id": "419a2a4e-518a-49f6-a2af-b1d1fd39a240",
   "metadata": {},
   "outputs": [
    {
     "name": "stdout",
     "output_type": "stream",
     "text": [
      "PeriodIndex(['2024-01', '2024-02', '2024-03'], dtype='period[M]')\n"
     ]
    }
   ],
   "source": [
    "import pandas as pd\n",
    "\n",
    "# Period 배열 만들기  - 1개월 길이\n",
    "pr_m = pd.period_range(start='2024-01-01',\n",
    "                       end=None,\n",
    "                       periods=3,\n",
    "                       freq='M')\n",
    "print(pr_m)"
   ]
  },
  {
   "cell_type": "code",
   "execution_count": 2,
   "id": "4f339ae5-2cf2-4212-9538-72d5b43c3837",
   "metadata": {},
   "outputs": [
    {
     "name": "stdout",
     "output_type": "stream",
     "text": [
      "PeriodIndex(['2024-01-01 00:00', '2024-01-01 01:00', '2024-01-01 02:00'], dtype='period[h]')\n"
     ]
    }
   ],
   "source": [
    "# Period 배열 만들기 - 1시간 주기\n",
    "pr_h = pd.period_range(start='2024-01-01',\n",
    "                       end=None,\n",
    "                       periods=3,\n",
    "                       freq='h')\n",
    "print(pr_h)"
   ]
  },
  {
   "cell_type": "code",
   "execution_count": 4,
   "id": "5b6d3612-17ea-4c9e-a203-472eaa6d43da",
   "metadata": {},
   "outputs": [
    {
     "name": "stdout",
     "output_type": "stream",
     "text": [
      "PeriodIndex(['2024-01-01', '2024-01-03', '2024-01-05'], dtype='period[2D]')\n"
     ]
    }
   ],
   "source": [
    "# Period 배열 만들기 - 2일 주기\n",
    "pr_2d = pd.period_range(start='2024-01-01',\n",
    "                        end=None,\n",
    "                        periods=3,\n",
    "                        freq='2d')\n",
    "print(pr_2d)"
   ]
  },
  {
   "cell_type": "code",
   "execution_count": null,
   "id": "906f7ac3-2bdd-4b57-b82c-ed0811454b66",
   "metadata": {},
   "outputs": [],
   "source": []
  }
 ],
 "metadata": {
  "kernelspec": {
   "display_name": "pandas",
   "language": "python",
   "name": "pandas"
  },
  "language_info": {
   "codemirror_mode": {
    "name": "ipython",
    "version": 3
   },
   "file_extension": ".py",
   "mimetype": "text/x-python",
   "name": "python",
   "nbconvert_exporter": "python",
   "pygments_lexer": "ipython3",
   "version": "3.12.4"
  }
 },
 "nbformat": 4,
 "nbformat_minor": 5
}
