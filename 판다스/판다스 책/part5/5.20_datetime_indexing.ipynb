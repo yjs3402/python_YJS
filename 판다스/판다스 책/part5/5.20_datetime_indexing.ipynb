{
 "cells": [
  {
   "cell_type": "code",
   "execution_count": 2,
   "id": "e8dad6ff-7704-41c1-8167-8d4a8a5fd9e7",
   "metadata": {},
   "outputs": [
    {
     "name": "stdout",
     "output_type": "stream",
     "text": [
      "                  Date  Close  Start   High    Low  Volume\n",
      "new_Date                                                  \n",
      "2018-06-01  2018-06-01  11900  11800  12100  11750   32062\n",
      "2018-06-04  2018-06-04  11900  11900  12200  11700   25171\n",
      "2018-06-05  2018-06-05  12150  11800  12250  11800   42485\n",
      "2018-06-07  2018-06-07  11950  12200  12300  11900   49088\n",
      "2018-06-08  2018-06-08  11950  11950  12200  11800   59258\n",
      "\n",
      "\n",
      "DatetimeIndex(['2018-06-01', '2018-06-04', '2018-06-05', '2018-06-07',\n",
      "               '2018-06-08', '2018-06-11', '2018-06-12', '2018-06-14',\n",
      "               '2018-06-15', '2018-06-18', '2018-06-19', '2018-06-20',\n",
      "               '2018-06-21', '2018-06-22', '2018-06-25', '2018-06-26',\n",
      "               '2018-06-27', '2018-06-28', '2018-06-29', '2018-07-02'],\n",
      "              dtype='datetime64[ns]', name='new_Date', freq=None)\n"
     ]
    }
   ],
   "source": [
    "import pandas as pd\n",
    "\n",
    "# read_csv() 함수로 파일 읽어서 df로 변환\n",
    "df = pd.read_csv('./data/stock-data.csv')\n",
    "\n",
    "# 문자열인 날짜 데이터를 판다스 Timestamp로 변환\n",
    "df['new_Date'] = pd.to_datetime(df['Date'])\n",
    "\n",
    "# 원하는 열을 새로운 행 인덱스로 지정하고 오름차순 정렬\n",
    "df = df.set_index('new_Date').sort_index()\n",
    "\n",
    "print(df.head())\n",
    "print('\\n')\n",
    "print(df.index)"
   ]
  },
  {
   "cell_type": "code",
   "execution_count": 3,
   "id": "a12bb26d-2fc0-488f-8b44-b2c75766ab74",
   "metadata": {},
   "outputs": [
    {
     "data": {
      "text/plain": [
       "Date      2018-06-27\n",
       "Close          10900\n",
       "Start          10800\n",
       "High           11050\n",
       "Low            10500\n",
       "Volume        133548\n",
       "Name: 2018-06-27 00:00:00, dtype: object"
      ]
     },
     "execution_count": 3,
     "metadata": {},
     "output_type": "execute_result"
    }
   ],
   "source": [
    "# 부분 문자열 인덱싱 1\n",
    "df.loc['2018-06-27']"
   ]
  },
  {
   "cell_type": "code",
   "execution_count": 4,
   "id": "cf5ab0e8-3d65-422b-8715-7c3052c6cba7",
   "metadata": {},
   "outputs": [
    {
     "data": {
      "text/html": [
       "<div>\n",
       "<style scoped>\n",
       "    .dataframe tbody tr th:only-of-type {\n",
       "        vertical-align: middle;\n",
       "    }\n",
       "\n",
       "    .dataframe tbody tr th {\n",
       "        vertical-align: top;\n",
       "    }\n",
       "\n",
       "    .dataframe thead th {\n",
       "        text-align: right;\n",
       "    }\n",
       "</style>\n",
       "<table border=\"1\" class=\"dataframe\">\n",
       "  <thead>\n",
       "    <tr style=\"text-align: right;\">\n",
       "      <th></th>\n",
       "      <th>Date</th>\n",
       "      <th>Close</th>\n",
       "      <th>Start</th>\n",
       "      <th>High</th>\n",
       "      <th>Low</th>\n",
       "      <th>Volume</th>\n",
       "    </tr>\n",
       "    <tr>\n",
       "      <th>new_Date</th>\n",
       "      <th></th>\n",
       "      <th></th>\n",
       "      <th></th>\n",
       "      <th></th>\n",
       "      <th></th>\n",
       "      <th></th>\n",
       "    </tr>\n",
       "  </thead>\n",
       "  <tbody>\n",
       "    <tr>\n",
       "      <th>2018-07-02</th>\n",
       "      <td>2018-07-02</td>\n",
       "      <td>10100</td>\n",
       "      <td>10850</td>\n",
       "      <td>10900</td>\n",
       "      <td>10000</td>\n",
       "      <td>137977</td>\n",
       "    </tr>\n",
       "  </tbody>\n",
       "</table>\n",
       "</div>"
      ],
      "text/plain": [
       "                  Date  Close  Start   High    Low  Volume\n",
       "new_Date                                                  \n",
       "2018-07-02  2018-07-02  10100  10850  10900  10000  137977"
      ]
     },
     "execution_count": 4,
     "metadata": {},
     "output_type": "execute_result"
    }
   ],
   "source": [
    "# 부분 문자열 인덱싱 2\n",
    "df.loc['2018-07']"
   ]
  },
  {
   "cell_type": "code",
   "execution_count": 6,
   "id": "5bd09815-8114-4daf-b420-a78ac6fc5167",
   "metadata": {},
   "outputs": [
    {
     "data": {
      "text/html": [
       "<div>\n",
       "<style scoped>\n",
       "    .dataframe tbody tr th:only-of-type {\n",
       "        vertical-align: middle;\n",
       "    }\n",
       "\n",
       "    .dataframe tbody tr th {\n",
       "        vertical-align: top;\n",
       "    }\n",
       "\n",
       "    .dataframe thead th {\n",
       "        text-align: right;\n",
       "    }\n",
       "</style>\n",
       "<table border=\"1\" class=\"dataframe\">\n",
       "  <thead>\n",
       "    <tr style=\"text-align: right;\">\n",
       "      <th></th>\n",
       "      <th>Date</th>\n",
       "      <th>Close</th>\n",
       "      <th>Start</th>\n",
       "      <th>High</th>\n",
       "      <th>Low</th>\n",
       "      <th>Volume</th>\n",
       "    </tr>\n",
       "    <tr>\n",
       "      <th>new_Date</th>\n",
       "      <th></th>\n",
       "      <th></th>\n",
       "      <th></th>\n",
       "      <th></th>\n",
       "      <th></th>\n",
       "      <th></th>\n",
       "    </tr>\n",
       "  </thead>\n",
       "  <tbody>\n",
       "    <tr>\n",
       "      <th>2018-06-27</th>\n",
       "      <td>2018-06-27</td>\n",
       "      <td>10900</td>\n",
       "      <td>10800</td>\n",
       "      <td>11050</td>\n",
       "      <td>10500</td>\n",
       "      <td>133548</td>\n",
       "    </tr>\n",
       "    <tr>\n",
       "      <th>2018-06-28</th>\n",
       "      <td>2018-06-28</td>\n",
       "      <td>10400</td>\n",
       "      <td>10900</td>\n",
       "      <td>10950</td>\n",
       "      <td>10150</td>\n",
       "      <td>155769</td>\n",
       "    </tr>\n",
       "    <tr>\n",
       "      <th>2018-06-29</th>\n",
       "      <td>2018-06-29</td>\n",
       "      <td>10700</td>\n",
       "      <td>10550</td>\n",
       "      <td>10900</td>\n",
       "      <td>9990</td>\n",
       "      <td>170253</td>\n",
       "    </tr>\n",
       "    <tr>\n",
       "      <th>2018-07-02</th>\n",
       "      <td>2018-07-02</td>\n",
       "      <td>10100</td>\n",
       "      <td>10850</td>\n",
       "      <td>10900</td>\n",
       "      <td>10000</td>\n",
       "      <td>137977</td>\n",
       "    </tr>\n",
       "  </tbody>\n",
       "</table>\n",
       "</div>"
      ],
      "text/plain": [
       "                  Date  Close  Start   High    Low  Volume\n",
       "new_Date                                                  \n",
       "2018-06-27  2018-06-27  10900  10800  11050  10500  133548\n",
       "2018-06-28  2018-06-28  10400  10900  10950  10150  155769\n",
       "2018-06-29  2018-06-29  10700  10550  10900   9990  170253\n",
       "2018-07-02  2018-07-02  10100  10850  10900  10000  137977"
      ]
     },
     "execution_count": 6,
     "metadata": {},
     "output_type": "execute_result"
    }
   ],
   "source": [
    "# 부분 문자열 인덱싱 3\n",
    "df.loc['2018-06-27':'2018-07-02']"
   ]
  },
  {
   "cell_type": "code",
   "execution_count": 7,
   "id": "841b6f1a-d7a8-4bbf-a088-a102fd53ab26",
   "metadata": {},
   "outputs": [
    {
     "data": {
      "text/html": [
       "<div>\n",
       "<style scoped>\n",
       "    .dataframe tbody tr th:only-of-type {\n",
       "        vertical-align: middle;\n",
       "    }\n",
       "\n",
       "    .dataframe tbody tr th {\n",
       "        vertical-align: top;\n",
       "    }\n",
       "\n",
       "    .dataframe thead th {\n",
       "        text-align: right;\n",
       "    }\n",
       "</style>\n",
       "<table border=\"1\" class=\"dataframe\">\n",
       "  <thead>\n",
       "    <tr style=\"text-align: right;\">\n",
       "      <th></th>\n",
       "      <th>Date</th>\n",
       "      <th>Close</th>\n",
       "      <th>Start</th>\n",
       "      <th>High</th>\n",
       "      <th>Low</th>\n",
       "      <th>Volume</th>\n",
       "    </tr>\n",
       "    <tr>\n",
       "      <th>new_Date</th>\n",
       "      <th></th>\n",
       "      <th></th>\n",
       "      <th></th>\n",
       "      <th></th>\n",
       "      <th></th>\n",
       "      <th></th>\n",
       "    </tr>\n",
       "  </thead>\n",
       "  <tbody>\n",
       "    <tr>\n",
       "      <th>2018-06-01</th>\n",
       "      <td>2018-06-01</td>\n",
       "      <td>11900</td>\n",
       "      <td>11800</td>\n",
       "      <td>12100</td>\n",
       "      <td>11750</td>\n",
       "      <td>32062</td>\n",
       "    </tr>\n",
       "    <tr>\n",
       "      <th>2018-06-04</th>\n",
       "      <td>2018-06-04</td>\n",
       "      <td>11900</td>\n",
       "      <td>11900</td>\n",
       "      <td>12200</td>\n",
       "      <td>11700</td>\n",
       "      <td>25171</td>\n",
       "    </tr>\n",
       "  </tbody>\n",
       "</table>\n",
       "</div>"
      ],
      "text/plain": [
       "                  Date  Close  Start   High    Low  Volume\n",
       "new_Date                                                  \n",
       "2018-06-01  2018-06-01  11900  11800  12100  11750   32062\n",
       "2018-06-04  2018-06-04  11900  11900  12200  11700   25171"
      ]
     },
     "execution_count": 7,
     "metadata": {},
     "output_type": "execute_result"
    }
   ],
   "source": [
    "# 부분 문자열 인덱싱 4\n",
    "df[df.index < '2018-06-05']"
   ]
  },
  {
   "cell_type": "code",
   "execution_count": 8,
   "id": "b70d335a-68d7-4fd7-8531-d402c61bd5a0",
   "metadata": {},
   "outputs": [
    {
     "data": {
      "text/html": [
       "<div>\n",
       "<style scoped>\n",
       "    .dataframe tbody tr th:only-of-type {\n",
       "        vertical-align: middle;\n",
       "    }\n",
       "\n",
       "    .dataframe tbody tr th {\n",
       "        vertical-align: top;\n",
       "    }\n",
       "\n",
       "    .dataframe thead th {\n",
       "        text-align: right;\n",
       "    }\n",
       "</style>\n",
       "<table border=\"1\" class=\"dataframe\">\n",
       "  <thead>\n",
       "    <tr style=\"text-align: right;\">\n",
       "      <th></th>\n",
       "      <th>Date</th>\n",
       "      <th>Close</th>\n",
       "      <th>Start</th>\n",
       "      <th>High</th>\n",
       "      <th>Low</th>\n",
       "      <th>Volume</th>\n",
       "    </tr>\n",
       "    <tr>\n",
       "      <th>new_Date</th>\n",
       "      <th></th>\n",
       "      <th></th>\n",
       "      <th></th>\n",
       "      <th></th>\n",
       "      <th></th>\n",
       "      <th></th>\n",
       "    </tr>\n",
       "  </thead>\n",
       "  <tbody>\n",
       "    <tr>\n",
       "      <th>2018-06-27</th>\n",
       "      <td>2018-06-27</td>\n",
       "      <td>10900</td>\n",
       "      <td>10800</td>\n",
       "      <td>11050</td>\n",
       "      <td>10500</td>\n",
       "      <td>133548</td>\n",
       "    </tr>\n",
       "    <tr>\n",
       "      <th>2018-06-28</th>\n",
       "      <td>2018-06-28</td>\n",
       "      <td>10400</td>\n",
       "      <td>10900</td>\n",
       "      <td>10950</td>\n",
       "      <td>10150</td>\n",
       "      <td>155769</td>\n",
       "    </tr>\n",
       "    <tr>\n",
       "      <th>2018-06-29</th>\n",
       "      <td>2018-06-29</td>\n",
       "      <td>10700</td>\n",
       "      <td>10550</td>\n",
       "      <td>10900</td>\n",
       "      <td>9990</td>\n",
       "      <td>170253</td>\n",
       "    </tr>\n",
       "    <tr>\n",
       "      <th>2018-07-02</th>\n",
       "      <td>2018-07-02</td>\n",
       "      <td>10100</td>\n",
       "      <td>10850</td>\n",
       "      <td>10900</td>\n",
       "      <td>10000</td>\n",
       "      <td>137977</td>\n",
       "    </tr>\n",
       "  </tbody>\n",
       "</table>\n",
       "</div>"
      ],
      "text/plain": [
       "                  Date  Close  Start   High    Low  Volume\n",
       "new_Date                                                  \n",
       "2018-06-27  2018-06-27  10900  10800  11050  10500  133548\n",
       "2018-06-28  2018-06-28  10400  10900  10950  10150  155769\n",
       "2018-06-29  2018-06-29  10700  10550  10900   9990  170253\n",
       "2018-07-02  2018-07-02  10100  10850  10900  10000  137977"
      ]
     },
     "execution_count": 8,
     "metadata": {},
     "output_type": "execute_result"
    }
   ],
   "source": [
    "# 시간 자료형을 활용한 인덱싱 1\n",
    "df.loc[pd.Timestamp(2018, 6, 27):pd.Timestamp(2018, 7, 2)]"
   ]
  },
  {
   "cell_type": "code",
   "execution_count": 9,
   "id": "50cb48ee-82c5-4015-b488-2bbedaf67eaa",
   "metadata": {},
   "outputs": [
    {
     "data": {
      "text/html": [
       "<div>\n",
       "<style scoped>\n",
       "    .dataframe tbody tr th:only-of-type {\n",
       "        vertical-align: middle;\n",
       "    }\n",
       "\n",
       "    .dataframe tbody tr th {\n",
       "        vertical-align: top;\n",
       "    }\n",
       "\n",
       "    .dataframe thead th {\n",
       "        text-align: right;\n",
       "    }\n",
       "</style>\n",
       "<table border=\"1\" class=\"dataframe\">\n",
       "  <thead>\n",
       "    <tr style=\"text-align: right;\">\n",
       "      <th></th>\n",
       "      <th>Date</th>\n",
       "      <th>Close</th>\n",
       "      <th>Start</th>\n",
       "      <th>High</th>\n",
       "      <th>Low</th>\n",
       "      <th>Volume</th>\n",
       "    </tr>\n",
       "    <tr>\n",
       "      <th>new_Date</th>\n",
       "      <th></th>\n",
       "      <th></th>\n",
       "      <th></th>\n",
       "      <th></th>\n",
       "      <th></th>\n",
       "      <th></th>\n",
       "    </tr>\n",
       "  </thead>\n",
       "  <tbody>\n",
       "    <tr>\n",
       "      <th>2018-06-28</th>\n",
       "      <td>2018-06-28</td>\n",
       "      <td>10400</td>\n",
       "      <td>10900</td>\n",
       "      <td>10950</td>\n",
       "      <td>10150</td>\n",
       "      <td>155769</td>\n",
       "    </tr>\n",
       "    <tr>\n",
       "      <th>2018-06-29</th>\n",
       "      <td>2018-06-29</td>\n",
       "      <td>10700</td>\n",
       "      <td>10550</td>\n",
       "      <td>10900</td>\n",
       "      <td>9990</td>\n",
       "      <td>170253</td>\n",
       "    </tr>\n",
       "    <tr>\n",
       "      <th>2018-07-02</th>\n",
       "      <td>2018-07-02</td>\n",
       "      <td>10100</td>\n",
       "      <td>10850</td>\n",
       "      <td>10900</td>\n",
       "      <td>10000</td>\n",
       "      <td>137977</td>\n",
       "    </tr>\n",
       "  </tbody>\n",
       "</table>\n",
       "</div>"
      ],
      "text/plain": [
       "                  Date  Close  Start   High    Low  Volume\n",
       "new_Date                                                  \n",
       "2018-06-28  2018-06-28  10400  10900  10950  10150  155769\n",
       "2018-06-29  2018-06-29  10700  10550  10900   9990  170253\n",
       "2018-07-02  2018-07-02  10100  10850  10900  10000  137977"
      ]
     },
     "execution_count": 9,
     "metadata": {},
     "output_type": "execute_result"
    }
   ],
   "source": [
    "# 시간 자료형을 활용한 인덱싱 2\n",
    "df.loc[pd.Timestamp(2018, 6, 27, 10, 30, 0):pd.Timestamp(2018, 7, 2, 23, 59, 59)]"
   ]
  },
  {
   "cell_type": "code",
   "execution_count": 10,
   "id": "03553307-1fbe-4c89-b6e7-4914503a0ba2",
   "metadata": {},
   "outputs": [
    {
     "name": "stdout",
     "output_type": "stream",
     "text": [
      "1 days 00:00:00\n",
      "1 days 00:00:00\n",
      "1 days 01:01:01\n",
      "1 days 01:01:01\n"
     ]
    }
   ],
   "source": [
    "# 날짜, 시간의 절대적 차이 1\n",
    "print(pd.Timedelta('1 days'))\n",
    "print(pd.Timedelta(days=1))\n",
    "print(pd.Timedelta('1 days 1 hours 1 minutes, 1 seconds'))\n",
    "print(pd.Timedelta(days=1, hours=1, minutes=1, seconds=1))"
   ]
  },
  {
   "cell_type": "code",
   "execution_count": 11,
   "id": "b0779258-07f0-47ce-bbd1-1b53b16edafd",
   "metadata": {},
   "outputs": [
    {
     "data": {
      "text/plain": [
       "TimedeltaIndex(['1 days 00:00:00', '0 days 03:00:00'], dtype='timedelta64[ns]', freq=None)"
      ]
     },
     "execution_count": 11,
     "metadata": {},
     "output_type": "execute_result"
    }
   ],
   "source": [
    "# 날짜, 시간의 절대적 차이 2\n",
    "pd.to_timedelta(['1 days', '3 hours'])"
   ]
  },
  {
   "cell_type": "code",
   "execution_count": 13,
   "id": "255c5f2a-ca3a-4dab-8933-b8611724026f",
   "metadata": {},
   "outputs": [
    {
     "name": "stdout",
     "output_type": "stream",
     "text": [
      "DatetimeIndex(['2018-06-01', '2018-06-04', '2018-06-05', '2018-06-07',\n",
      "               '2018-06-08', '2018-06-11', '2018-06-12', '2018-06-14',\n",
      "               '2018-06-15', '2018-06-18', '2018-06-19', '2018-06-20',\n",
      "               '2018-06-21', '2018-06-22', '2018-06-25', '2018-06-26',\n",
      "               '2018-06-27', '2018-06-28', '2018-06-29', '2018-07-02'],\n",
      "              dtype='datetime64[ns]', name='new_Date', freq=None)\n",
      "TimedeltaIndex(['32 days', '29 days', '28 days', '26 days', '25 days',\n",
      "                '22 days', '21 days', '19 days', '18 days', '15 days',\n",
      "                '14 days', '13 days', '12 days', '11 days',  '8 days',\n",
      "                 '7 days',  '6 days',  '5 days',  '4 days',  '1 days'],\n",
      "               dtype='timedelta64[ns]', name='new_Date', freq=None)\n",
      "DatetimeIndex(['2018-06-02', '2018-06-05', '2018-06-06', '2018-06-08',\n",
      "               '2018-06-09', '2018-06-12', '2018-06-13', '2018-06-15',\n",
      "               '2018-06-16', '2018-06-19', '2018-06-20', '2018-06-21',\n",
      "               '2018-06-22', '2018-06-23', '2018-06-26', '2018-06-27',\n",
      "               '2018-06-28', '2018-06-29', '2018-06-30', '2018-07-03'],\n",
      "              dtype='datetime64[ns]', name='new_Date', freq=None)\n",
      "2018-06-02 00:00:00\n",
      "2018-07-03 00:00:00\n"
     ]
    }
   ],
   "source": [
    "# 날짜, 시간의 절대적 차이 3\n",
    "a = df.index\n",
    "print(a)\n",
    "\n",
    "b = pd.Timestamp('2018-07-03') - a\n",
    "print(b)\n",
    "\n",
    "c = a + pd.Timedelta(days=1)\n",
    "print(c)\n",
    "\n",
    "print(c.min())\n",
    "print(c.max())"
   ]
  },
  {
   "cell_type": "code",
   "execution_count": null,
   "id": "abfe1bbf-f26a-4aa8-94d5-3e4a5d36bf8f",
   "metadata": {},
   "outputs": [],
   "source": []
  }
 ],
 "metadata": {
  "kernelspec": {
   "display_name": "pandas",
   "language": "python",
   "name": "pandas"
  },
  "language_info": {
   "codemirror_mode": {
    "name": "ipython",
    "version": 3
   },
   "file_extension": ".py",
   "mimetype": "text/x-python",
   "name": "python",
   "nbconvert_exporter": "python",
   "pygments_lexer": "ipython3",
   "version": "3.12.4"
  }
 },
 "nbformat": 4,
 "nbformat_minor": 5
}
