{
 "cells": [
  {
   "cell_type": "code",
   "execution_count": 2,
   "id": "d326c933-113e-4bed-879d-bbb6ace1e1fc",
   "metadata": {},
   "outputs": [
    {
     "name": "stdout",
     "output_type": "stream",
     "text": [
      "DatetimeIndex(['2024-01-01 00:00:00+09:00', '2024-02-01 00:00:00+09:00',\n",
      "               '2024-03-01 00:00:00+09:00', '2024-04-01 00:00:00+09:00',\n",
      "               '2024-05-01 00:00:00+09:00', '2024-06-01 00:00:00+09:00'],\n",
      "              dtype='datetime64[ns, Asia/Seoul]', freq='MS')\n"
     ]
    }
   ],
   "source": [
    "import pandas as pd\n",
    "\n",
    "# Timstamp의 배열 만들기 - 월 간격, 월의 시작일 기준\n",
    "ts_ms = pd.date_range(start='2024-01-01',\n",
    "                      end=None,\n",
    "                      periods=6,\n",
    "                      freq='MS',\n",
    "                      tz='Asia/Seoul')\n",
    "print(ts_ms)"
   ]
  },
  {
   "cell_type": "code",
   "execution_count": 4,
   "id": "b9f58b39-d0a0-4a44-9570-cf4754ca65fc",
   "metadata": {},
   "outputs": [
    {
     "name": "stdout",
     "output_type": "stream",
     "text": [
      "DatetimeIndex(['2024-01-31 00:00:00+09:00', '2024-02-29 00:00:00+09:00',\n",
      "               '2024-03-31 00:00:00+09:00', '2024-04-30 00:00:00+09:00',\n",
      "               '2024-05-31 00:00:00+09:00', '2024-06-30 00:00:00+09:00'],\n",
      "              dtype='datetime64[ns, Asia/Seoul]', freq='ME')\n"
     ]
    }
   ],
   "source": [
    "# 월 간격, 월의 마지막 날 기준\n",
    "ts_me = pd.date_range('2024-01-01', periods=6,\n",
    "                      freq='ME',\n",
    "                      tz='Asia/Seoul')\n",
    "print(ts_me)"
   ]
  },
  {
   "cell_type": "code",
   "execution_count": 6,
   "id": "b706ef65-a27e-4ea4-ba19-b52936391896",
   "metadata": {},
   "outputs": [
    {
     "name": "stdout",
     "output_type": "stream",
     "text": [
      "DatetimeIndex(['2024-01-01 00:00:00+09:00', '2024-04-01 00:00:00+09:00',\n",
      "               '2024-07-01 00:00:00+09:00', '2024-10-01 00:00:00+09:00',\n",
      "               '2025-01-01 00:00:00+09:00', '2025-04-01 00:00:00+09:00'],\n",
      "              dtype='datetime64[ns, Asia/Seoul]', freq='3MS')\n"
     ]
    }
   ],
   "source": [
    "# 분기(3개월) 간격, 월의 마지막 날 기준\n",
    "ts_3m = pd.date_range('2024-01-01', periods=6,\n",
    "                      freq='3MS',\n",
    "                      tz='Asia/Seoul')\n",
    "print(ts_3m)"
   ]
  },
  {
   "cell_type": "code",
   "execution_count": null,
   "id": "6e7766be-5858-48b8-b767-d42fe37d87df",
   "metadata": {},
   "outputs": [],
   "source": []
  }
 ],
 "metadata": {
  "kernelspec": {
   "display_name": "pandas",
   "language": "python",
   "name": "pandas"
  },
  "language_info": {
   "codemirror_mode": {
    "name": "ipython",
    "version": 3
   },
   "file_extension": ".py",
   "mimetype": "text/x-python",
   "name": "python",
   "nbconvert_exporter": "python",
   "pygments_lexer": "ipython3",
   "version": "3.12.4"
  }
 },
 "nbformat": 4,
 "nbformat_minor": 5
}
