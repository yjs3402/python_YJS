{
 "cells": [
  {
   "cell_type": "code",
   "execution_count": 1,
   "metadata": {
    "executionInfo": {
     "elapsed": 5,
     "status": "ok",
     "timestamp": 1706180704075,
     "user": {
      "displayName": "Steve",
      "userId": "13015281013241816762"
     },
     "user_tz": -540
    },
    "id": "PSJ0UQVYOkXc",
    "tags": []
   },
   "outputs": [
    {
     "name": "stdout",
     "output_type": "stream",
     "text": [
      "국어     NaN\n",
      "영어    80.0\n",
      "수학    90.0\n",
      "dtype: float64\n",
      "수학    80\n",
      "국어    90\n",
      "dtype: int64\n"
     ]
    }
   ],
   "source": [
    "# 라이브러리 불러오기\n",
    "import pandas as pd\n",
    "import numpy as np\n",
    "\n",
    "# 딕셔너리 데이터로 판다스 시리즈 만들기\n",
    "student1 = pd.Series({'국어':np.nan, '영어':80, '수학':90})\n",
    "student2 = pd.Series({'수학':80, '국어':90})\n",
    "\n",
    "print(student1)\n",
    "print(student2)"
   ]
  },
  {
   "cell_type": "code",
   "execution_count": 2,
   "metadata": {
    "colab": {
     "base_uri": "https://localhost:8080/"
    },
    "executionInfo": {
     "elapsed": 4,
     "status": "ok",
     "timestamp": 1706180711190,
     "user": {
      "displayName": "Steve",
      "userId": "13015281013241816762"
     },
     "user_tz": -540
    },
    "id": "fizXtlBFJNnb",
    "outputId": "5052e343-833a-4003-df4e-f070b04fc025",
    "tags": []
   },
   "outputs": [
    {
     "name": "stdout",
     "output_type": "stream",
     "text": [
      "       국어        수학    영어\n",
      "덧셈   90.0   170.000  80.0\n",
      "뺄셈  -90.0    10.000  80.0\n",
      "곱셈    0.0  7200.000   0.0\n",
      "나눗셈   0.0     1.125   inf\n"
     ]
    }
   ],
   "source": [
    "# 두 학생의 과목별 점수로 사칙연산 수행 (연산 메소드 사용)\n",
    "sr_add = student1.add(student2, fill_value=0)    #덧셈\n",
    "sr_sub = student1.sub(student2, fill_value=0)    #뺄셈\n",
    "sr_mul = student1.mul(student2, fill_value=0)    #곱셈\n",
    "sr_div = student1.div(student2, fill_value=0)    #나눗셈\n",
    "\n",
    "# 사칙연산 결과를 데이터프레임으로 합치기 (시리즈 -> 데이터프레임)\n",
    "result = pd.DataFrame([sr_add, sr_sub, sr_mul, sr_div],\n",
    "                      index=['덧셈', '뺄셈', '곱셈', '나눗셈'])\n",
    "print(result)"
   ]
  }
 ],
 "metadata": {
  "colab": {
   "authorship_tag": "ABX9TyOJENdYLJLyWdUp0SjVMd5C",
   "provenance": []
  },
  "kernelspec": {
   "display_name": "Python 3 (ipykernel)",
   "language": "python",
   "name": "python3"
  },
  "language_info": {
   "codemirror_mode": {
    "name": "ipython",
    "version": 3
   },
   "file_extension": ".py",
   "mimetype": "text/x-python",
   "name": "python",
   "nbconvert_exporter": "python",
   "pygments_lexer": "ipython3",
   "version": "3.11.5"
  }
 },
 "nbformat": 4,
 "nbformat_minor": 4
}
