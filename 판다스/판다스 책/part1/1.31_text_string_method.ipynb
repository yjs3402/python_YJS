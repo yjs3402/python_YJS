{
 "cells": [
  {
   "cell_type": "code",
   "execution_count": 1,
   "metadata": {
    "colab": {
     "base_uri": "https://localhost:8080/"
    },
    "executionInfo": {
     "elapsed": 388,
     "status": "ok",
     "timestamp": 1706180951222,
     "user": {
      "displayName": "Steve",
      "userId": "13015281013241816762"
     },
     "user_tz": -540
    },
    "id": "jo6BYYnDJNk2",
    "outputId": "60bb5345-a60b-40d1-df03-ff81678a678f",
    "tags": []
   },
   "outputs": [
    {
     "name": "stdout",
     "output_type": "stream",
     "text": [
      "First        Apple_사과\n",
      " Second    Banana_바나나\n",
      " Third      Cherry_체리\n",
      "Fourth            NaN\n",
      "dtype: object\n",
      "\n",
      "\n",
      "First        Apple_사과\n",
      " Second    Banana_바나나\n",
      " Third      Cherry_체리\n",
      "Fourth           <NA>\n",
      "dtype: string\n"
     ]
    }
   ],
   "source": [
    "# 라이브러리 불러오기\n",
    "import pandas as pd\n",
    "import numpy as np\n",
    "\n",
    "# 텍스트로 이루어진 시리즈 배열 만들기 (자료형 미지정)\n",
    "ser = pd.Series([\"Apple_사과\", \"Banana_바나나\", \"Cherry_체리\", np.nan],\n",
    "               index=[\"First \", \" Second\", \" Third\", \"Fourth\"])\n",
    "print(ser)\n",
    "print(\"\\n\")\n",
    "\n",
    "# 텍스트로 이루어진 시리즈 배열 만들기 (string 자료형 지정)\n",
    "ser2 = pd.Series([\"Apple_사과\", \"Banana_바나나\", \"Cherry_체리\", np.nan], \n",
    "                 index=[\"First \", \" Second\", \" Third\", \"Fourth\"], dtype=\"string\")\n",
    "print(ser2)"
   ]
  },
  {
   "cell_type": "code",
   "execution_count": 2,
   "metadata": {
    "tags": []
   },
   "outputs": [
    {
     "name": "stdout",
     "output_type": "stream",
     "text": [
      "First        apple_사과\n",
      " Second    banana_바나나\n",
      " Third      cherry_체리\n",
      "Fourth            NaN\n",
      "dtype: object\n",
      "\n",
      "\n",
      "First        APPLE_사과\n",
      " Second    BANANA_바나나\n",
      " Third      CHERRY_체리\n",
      "Fourth            NaN\n",
      "dtype: object\n",
      "\n",
      "\n",
      "First       8.0\n",
      " Second    10.0\n",
      " Third      9.0\n",
      "Fourth      NaN\n",
      "dtype: float64\n"
     ]
    }
   ],
   "source": [
    "# 소문자로 변환\n",
    "print(ser.str.lower())\n",
    "print(\"\\n\")\n",
    "\n",
    "# 대문자로 변환\n",
    "print(ser.str.upper())\n",
    "print(\"\\n\")\n",
    "\n",
    "# 문자열 길이 계산\n",
    "print(ser.str.len())"
   ]
  },
  {
   "cell_type": "code",
   "execution_count": 3,
   "metadata": {
    "tags": []
   },
   "outputs": [
    {
     "name": "stdout",
     "output_type": "stream",
     "text": [
      "First        [Apple, 사과]\n",
      " Second    [Banana, 바나나]\n",
      " Third      [Cherry, 체리]\n",
      "Fourth               NaN\n",
      "dtype: object\n",
      "\n",
      "\n",
      "              0    1\n",
      "First     Apple   사과\n",
      " Second  Banana  바나나\n",
      " Third   Cherry   체리\n",
      "Fourth      NaN  NaN\n",
      "\n",
      "\n",
      "First       사과\n",
      " Second    바나나\n",
      " Third      체리\n",
      "Fourth     NaN\n",
      "dtype: object\n"
     ]
    }
   ],
   "source": [
    "# 문자열 분할\n",
    "print(ser.str.split(\"_\"))\n",
    "print(\"\\n\")\n",
    "\n",
    "# 문자열을 분할하여 DataFrame으로 확장\n",
    "print(ser.str.split(\"_\", expand=True))\n",
    "print(\"\\n\")\n",
    "\n",
    "# 분할된 문자열 중 특정 요소 선택\n",
    "print(ser.str.split(\"_\").str.get(1))"
   ]
  },
  {
   "cell_type": "code",
   "execution_count": 4,
   "metadata": {
    "tags": []
   },
   "outputs": [
    {
     "name": "stdout",
     "output_type": "stream",
     "text": [
      "Index(['First ', ' Second', ' Third', 'Fourth'], dtype='object')\n",
      "Index(['First', 'Second', 'Third', 'Fourth'], dtype='object')\n",
      "Index(['First ', 'Second', 'Third', 'Fourth'], dtype='object')\n",
      "Index(['First', ' Second', ' Third', 'Fourth'], dtype='object')\n"
     ]
    }
   ],
   "source": [
    "# 행 인덱스를 추출\n",
    "idx = ser.index\n",
    "print(idx)\n",
    "\n",
    "# 양쪽 공백 제거\n",
    "print(idx.str.strip())\n",
    "\n",
    "# 왼쪽 공백 제거\n",
    "print(idx.str.lstrip())\n",
    "\n",
    "# 오른쪽 공백 제거\n",
    "print(idx.str.rstrip())"
   ]
  },
  {
   "cell_type": "code",
   "execution_count": 5,
   "metadata": {
    "tags": []
   },
   "outputs": [
    {
     "name": "stdout",
     "output_type": "stream",
     "text": [
      "First        Apple:사과\n",
      " Second    Banana:바나나\n",
      " Third      Cherry:체리\n",
      "Fourth            NaN\n",
      "dtype: object\n",
      "\n",
      "\n",
      "First       Apple\n",
      " Second    Banana\n",
      " Third     Cherry\n",
      "Fourth        NaN\n",
      "dtype: object\n"
     ]
    }
   ],
   "source": [
    "# 문자열 교체(\"_\"을 찾아서 \":\"으로 변경)\n",
    "print(ser.str.replace(\"_\", \":\", regex=False))\n",
    "print(\"\\n\")\n",
    "\n",
    "# 정규 표현식을 사용한 문자열 교체(영문 알파벳이 아닌 문자 제거)\n",
    "print(ser.str.replace(\"[^a-zA-Z\\s]\", \"\", regex=True))"
   ]
  },
  {
   "cell_type": "code",
   "execution_count": 6,
   "metadata": {
    "tags": []
   },
   "outputs": [
    {
     "name": "stdout",
     "output_type": "stream",
     "text": [
      "First        A\n",
      " Second      B\n",
      " Third       C\n",
      "Fourth     NaN\n",
      "dtype: object\n",
      "\n",
      "\n",
      "First      Appl\n",
      " Second    Bana\n",
      " Third     Cher\n",
      "Fourth      NaN\n",
      "dtype: object\n"
     ]
    }
   ],
   "source": [
    "# 인덱싱 - 각 문자열의 첫 번째 문자 선택\n",
    "print(ser.str[0])\n",
    "print(\"\\n\")\n",
    "\n",
    "# 슬라이싱 - 각 문자열의 첫 번째 ~ 3번째 문자 선택\n",
    "print(ser.str[0:4])"
   ]
  },
  {
   "cell_type": "code",
   "execution_count": 7,
   "metadata": {
    "tags": []
   },
   "outputs": [
    {
     "name": "stdout",
     "output_type": "stream",
     "text": [
      "First       True\n",
      " Second    False\n",
      " Third     False\n",
      "Fourth     False\n",
      "dtype: bool\n",
      "\n",
      "\n",
      "First       True\n",
      " Second     True\n",
      " Third     False\n",
      "Fourth       NaN\n",
      "dtype: object\n",
      "\n",
      "\n",
      "First      False\n",
      " Second    False\n",
      " Third     False\n",
      "Fourth       NaN\n",
      "dtype: object\n"
     ]
    }
   ],
   "source": [
    "# 특정 문자 포함 여부 확인, NA 값을 False로 처리\n",
    "contains_A = ser.str.contains(\"A\", na=False)\n",
    "print(contains_A)\n",
    "print(\"\\n\")\n",
    "\n",
    "# 패턴 포함 여부 확인\n",
    "contains_pattern = ser.str.contains(r\"[A|B][a-z]+\")\n",
    "print(contains_pattern)\n",
    "print(\"\\n\")\n",
    "\n",
    "# 전체 문자열의 패턴 일치 여부 확인\n",
    "fullmatch_pattern = ser.str.fullmatch(r\"[A|B][a-z]+\")\n",
    "print(fullmatch_pattern)"
   ]
  },
  {
   "cell_type": "code",
   "execution_count": 8,
   "metadata": {
    "tags": []
   },
   "outputs": [
    {
     "name": "stdout",
     "output_type": "stream",
     "text": [
      "    0\n",
      "0   1\n",
      "1   2\n",
      "2   3\n",
      "3  45\n",
      "4  67\n",
      "5   8\n",
      "\n",
      "\n",
      "    0\n",
      "0   a\n",
      "1   b\n",
      "2   c\n",
      "3  da\n",
      "4  ee\n",
      "5   f\n",
      "\n",
      "\n",
      "  Letter Digit\n",
      "0      a     1\n",
      "1      b     2\n",
      "2      c     3\n",
      "3      d     4\n",
      "4      e     6\n",
      "5      f     8\n"
     ]
    }
   ],
   "source": [
    "# 새로운 시리즈 생성\n",
    "ser3 = pd.Series([\"a1\", \"b2\", \"c3\", \"d4a5\", \"e6e7\", \"f8\"], dtype=\"string\")\n",
    "\n",
    "# 숫자만 추출\n",
    "digits = ser3.str.extractall(r\"(\\d)\").groupby(level=0).agg(''.join)\n",
    "print(digits)\n",
    "print(\"\\n\")\n",
    "\n",
    "# 알파벳만 추출\n",
    "letters = ser3.str.extractall(r\"([a-z])\").groupby(level=0).agg(''.join)\n",
    "print(letters)\n",
    "print(\"\\n\")\n",
    "\n",
    "# 숫자를 별도의 컬럼으로 분리\n",
    "split_columns = ser3.str.extract(r\"(?P<Letter>[a-z]+)(?P<Digit>\\d+)\")\n",
    "print(split_columns)"
   ]
  }
 ],
 "metadata": {
  "colab": {
   "authorship_tag": "ABX9TyMmPDgPDlEQ9VJpxhthoipr",
   "provenance": []
  },
  "kernelspec": {
   "display_name": "Python 3 (ipykernel)",
   "language": "python",
   "name": "python3"
  },
  "language_info": {
   "codemirror_mode": {
    "name": "ipython",
    "version": 3
   },
   "file_extension": ".py",
   "mimetype": "text/x-python",
   "name": "python",
   "nbconvert_exporter": "python",
   "pygments_lexer": "ipython3",
   "version": "3.12.4"
  }
 },
 "nbformat": 4,
 "nbformat_minor": 4
}
