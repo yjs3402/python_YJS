{
 "cells": [
  {
   "cell_type": "code",
   "execution_count": 12,
   "metadata": {},
   "outputs": [
    {
     "name": "stdout",
     "output_type": "stream",
     "text": [
      "    c0  c1  c2  c3      c4\n",
      "r0   1   4   7  10  131415\n",
      "r1   2   5   8  11  131415\n",
      "r2   3   6   9  12  131415\n",
      "     c0   c1   c2    c3        c4\n",
      "r0  1.0  4.0  7.0  10.0  131415.0\n",
      "r1  2.0  5.0  8.0  11.0  131415.0\n",
      "r2  3.0  6.0  9.0  12.0  131415.0\n",
      "r3  NaN  NaN  NaN   NaN       NaN\n",
      "r4  NaN  NaN  NaN   NaN       NaN\n",
      "    c0  c1  c2  c3      c4\n",
      "r0   1   4   7  10  131415\n",
      "r1   2   5   8  11  131415\n",
      "r2   3   6   9  12  131415\n",
      "r3   0   0   0   0       0\n",
      "r4   0   0   0   0       0\n"
     ]
    }
   ],
   "source": [
    "import pandas as pd\n",
    "\n",
    "# 딕셔너리를 데이터프레임으로 변환\n",
    "dict_data = {'c0':[1,2,3], 'c1':[4,5,6], 'c2':[7,8,9], 'c3':[10,11,12], 'c4':[131415]}\n",
    "\n",
    "# 인덱스를 [r0, r1, r2]로 지정\n",
    "df = pd.DataFrame(dict_data, index=['r0', 'r1', 'r2'])\n",
    "print(df)\n",
    "\n",
    "# 인덱스를 [r0, r1, r2, r3, r4]로 재지정\n",
    "new_index = ['r0', 'r1', 'r2', 'r3', 'r4']\n",
    "ndf = df.reindex(new_index)\n",
    "print(ndf)\n",
    "\n",
    "# reindex로 발생한 NaN 값을 숫자 0으로 채우기\n",
    "new_index = ['r0', 'r1', 'r2', 'r3', 'r4']\n",
    "ndf = df.reindex(new_index, fill_value=0)\n",
    "print(ndf)"
   ]
  },
  {
   "cell_type": "code",
   "execution_count": null,
   "metadata": {},
   "outputs": [],
   "source": []
  }
 ],
 "metadata": {
  "colab": {
   "authorship_tag": "ABX9TyNWMSXzKJBsxn80g+ba12cz",
   "provenance": []
  },
  "kernelspec": {
   "display_name": "pandas",
   "language": "python",
   "name": "pandas"
  },
  "language_info": {
   "codemirror_mode": {
    "name": "ipython",
    "version": 3
   },
   "file_extension": ".py",
   "mimetype": "text/x-python",
   "name": "python",
   "nbconvert_exporter": "python",
   "pygments_lexer": "ipython3",
   "version": "3.12.4"
  }
 },
 "nbformat": 4,
 "nbformat_minor": 4
}
