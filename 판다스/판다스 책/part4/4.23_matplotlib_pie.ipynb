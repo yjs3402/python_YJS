{
 "cells": [
  {
   "cell_type": "code",
   "execution_count": 1,
   "id": "bb12202f-d4dd-41d5-b8bd-f4c78b69b0f9",
   "metadata": {
    "tags": []
   },
   "outputs": [
    {
     "data": {
      "text/html": [
       "<div>\n",
       "<style scoped>\n",
       "    .dataframe tbody tr th:only-of-type {\n",
       "        vertical-align: middle;\n",
       "    }\n",
       "\n",
       "    .dataframe tbody tr th {\n",
       "        vertical-align: top;\n",
       "    }\n",
       "\n",
       "    .dataframe thead th {\n",
       "        text-align: right;\n",
       "    }\n",
       "</style>\n",
       "<table border=\"1\" class=\"dataframe\">\n",
       "  <thead>\n",
       "    <tr style=\"text-align: right;\">\n",
       "      <th></th>\n",
       "      <th>mpg</th>\n",
       "      <th>cylinders</th>\n",
       "      <th>displacement</th>\n",
       "      <th>weight</th>\n",
       "      <th>acceleration</th>\n",
       "      <th>model year</th>\n",
       "      <th>count</th>\n",
       "    </tr>\n",
       "    <tr>\n",
       "      <th>origin</th>\n",
       "      <th></th>\n",
       "      <th></th>\n",
       "      <th></th>\n",
       "      <th></th>\n",
       "      <th></th>\n",
       "      <th></th>\n",
       "      <th></th>\n",
       "    </tr>\n",
       "  </thead>\n",
       "  <tbody>\n",
       "    <tr>\n",
       "      <th>1</th>\n",
       "      <td>5000.8</td>\n",
       "      <td>1556</td>\n",
       "      <td>61229.5</td>\n",
       "      <td>837121.0</td>\n",
       "      <td>3743.4</td>\n",
       "      <td>18827</td>\n",
       "      <td>249</td>\n",
       "    </tr>\n",
       "    <tr>\n",
       "      <th>2</th>\n",
       "      <td>1952.4</td>\n",
       "      <td>291</td>\n",
       "      <td>7640.0</td>\n",
       "      <td>169631.0</td>\n",
       "      <td>1175.1</td>\n",
       "      <td>5307</td>\n",
       "      <td>70</td>\n",
       "    </tr>\n",
       "    <tr>\n",
       "      <th>3</th>\n",
       "      <td>2405.6</td>\n",
       "      <td>324</td>\n",
       "      <td>8114.0</td>\n",
       "      <td>175477.0</td>\n",
       "      <td>1277.6</td>\n",
       "      <td>6118</td>\n",
       "      <td>79</td>\n",
       "    </tr>\n",
       "  </tbody>\n",
       "</table>\n",
       "</div>"
      ],
      "text/plain": [
       "           mpg  cylinders  displacement    weight  acceleration  model year  \\\n",
       "origin                                                                        \n",
       "1       5000.8       1556       61229.5  837121.0        3743.4       18827   \n",
       "2       1952.4        291        7640.0  169631.0        1175.1        5307   \n",
       "3       2405.6        324        8114.0  175477.0        1277.6        6118   \n",
       "\n",
       "        count  \n",
       "origin         \n",
       "1         249  \n",
       "2          70  \n",
       "3          79  "
      ]
     },
     "execution_count": 1,
     "metadata": {},
     "output_type": "execute_result"
    }
   ],
   "source": [
    "# 라이브러리 불러오기\n",
    "import pandas as pd\n",
    "import matplotlib.pyplot as plt\n",
    "\n",
    "# read_csv() 함수로 df 생성\n",
    "df = pd.read_csv('./data/auto-mpg.csv', header=None)\n",
    "\n",
    "plt.style.use('default')   # 스타일 서식 지정\n",
    "\n",
    "# 열 이름을 지정\n",
    "df.columns = ['mpg','cylinders','displacement','horsepower','weight',\n",
    "              'acceleration','model year','origin','name']\n",
    "\n",
    "# 데이터 개수 카운트를 위해 값 1을 가진 열을 추가\n",
    "df['count'] = 1\n",
    "df_origin = df.groupby('origin').sum(numeric_only=True)   # origin 열을 기준으로 그룹화, 합계 연산\n",
    "df_origin.head()                                          # 그룹 연산 결과 출력"
   ]
  },
  {
   "cell_type": "code",
   "execution_count": 2,
   "id": "48421bfa-c9ba-48c2-ab53-5ae90dbe83df",
   "metadata": {
    "tags": []
   },
   "outputs": [
    {
     "data": {
      "text/html": [
       "<div>\n",
       "<style scoped>\n",
       "    .dataframe tbody tr th:only-of-type {\n",
       "        vertical-align: middle;\n",
       "    }\n",
       "\n",
       "    .dataframe tbody tr th {\n",
       "        vertical-align: top;\n",
       "    }\n",
       "\n",
       "    .dataframe thead th {\n",
       "        text-align: right;\n",
       "    }\n",
       "</style>\n",
       "<table border=\"1\" class=\"dataframe\">\n",
       "  <thead>\n",
       "    <tr style=\"text-align: right;\">\n",
       "      <th></th>\n",
       "      <th>mpg</th>\n",
       "      <th>cylinders</th>\n",
       "      <th>displacement</th>\n",
       "      <th>weight</th>\n",
       "      <th>acceleration</th>\n",
       "      <th>model year</th>\n",
       "      <th>count</th>\n",
       "    </tr>\n",
       "  </thead>\n",
       "  <tbody>\n",
       "    <tr>\n",
       "      <th>USA</th>\n",
       "      <td>5000.8</td>\n",
       "      <td>1556</td>\n",
       "      <td>61229.5</td>\n",
       "      <td>837121.0</td>\n",
       "      <td>3743.4</td>\n",
       "      <td>18827</td>\n",
       "      <td>249</td>\n",
       "    </tr>\n",
       "    <tr>\n",
       "      <th>EU</th>\n",
       "      <td>1952.4</td>\n",
       "      <td>291</td>\n",
       "      <td>7640.0</td>\n",
       "      <td>169631.0</td>\n",
       "      <td>1175.1</td>\n",
       "      <td>5307</td>\n",
       "      <td>70</td>\n",
       "    </tr>\n",
       "    <tr>\n",
       "      <th>JAPAN</th>\n",
       "      <td>2405.6</td>\n",
       "      <td>324</td>\n",
       "      <td>8114.0</td>\n",
       "      <td>175477.0</td>\n",
       "      <td>1277.6</td>\n",
       "      <td>6118</td>\n",
       "      <td>79</td>\n",
       "    </tr>\n",
       "  </tbody>\n",
       "</table>\n",
       "</div>"
      ],
      "text/plain": [
       "          mpg  cylinders  displacement    weight  acceleration  model year  \\\n",
       "USA    5000.8       1556       61229.5  837121.0        3743.4       18827   \n",
       "EU     1952.4        291        7640.0  169631.0        1175.1        5307   \n",
       "JAPAN  2405.6        324        8114.0  175477.0        1277.6        6118   \n",
       "\n",
       "       count  \n",
       "USA      249  \n",
       "EU        70  \n",
       "JAPAN     79  "
      ]
     },
     "execution_count": 2,
     "metadata": {},
     "output_type": "execute_result"
    }
   ],
   "source": [
    "# 제조국가(origin) 값을 실제 지역명으로 변경\n",
    "df_origin.index = ['USA', 'EU', 'JAPAN']\n",
    "df_origin.head()"
   ]
  },
  {
   "cell_type": "code",
   "execution_count": 3,
   "id": "4065c434-b0c5-461f-9bc8-926c2694c176",
   "metadata": {
    "tags": []
   },
   "outputs": [
    {
     "data": {
      "image/png": "[encoded data removed]",
      "text/plain": [
       "<Figure size 700x500 with 1 Axes>"
      ]
     },
     "metadata": {},
     "output_type": "display_data"
    }
   ],
   "source": [
    "# 제조국가(origin) 열에 대한 파이 차트 그리기 – count 열 데이터 사용\n",
    "df_origin['count'].plot(kind='pie', \n",
    "                     figsize=(7, 5),\n",
    "                     autopct='%1.1f%%',                             # 퍼센트 % 표시\n",
    "                     startangle=10,                                 # 파이 조각을 나누는 시작 위치(각도 표시)\n",
    "                     colors=['chocolate', 'bisque', 'cadetblue']    # 색상 리스트\n",
    "                     )\n",
    "\n",
    "plt.title('Model Origin', size=20)\n",
    "plt.axis('equal')                                       # 파이 차트의 비율을 같게 (원에 가깝게) 조정\n",
    "plt.legend(labels=df_origin.index, loc='upper right')   # 범례 표시\n",
    "plt.show()"
   ]
  }
 ],
 "metadata": {
  "kernelspec": {
   "display_name": "pandas",
   "language": "python",
   "name": "pandas"
  },
  "language_info": {
   "codemirror_mode": {
    "name": "ipython",
    "version": 3
   },
   "file_extension": ".py",
   "mimetype": "text/x-python",
   "name": "python",
   "nbconvert_exporter": "python",
   "pygments_lexer": "ipython3",
   "version": "3.10.13"
  }
 },
 "nbformat": 4,
 "nbformat_minor": 5
}
