{
 "cells": [
  {
   "cell_type": "code",
   "execution_count": 1,
   "metadata": {
    "executionInfo": {
     "elapsed": 2337,
     "status": "ok",
     "timestamp": 1706180950836,
     "user": {
      "displayName": "Steve",
      "userId": "13015281013241816762"
     },
     "user_tz": -540
    },
    "id": "PSJ0UQVYOkXc",
    "tags": []
   },
   "outputs": [],
   "source": [
    "# 라이브러리 가져오기\n",
    "import requests\n",
    "import pandas as pd\n",
    "\n",
    "my_key = \"----발급받은 API 키를 입력-----\"\n",
    "\n",
    "# 특정 종목(stockCode)의 재무항목(indicatorName) 데이터를 가져오는 함수를 정의\n",
    "def get_financials(stockCode, indicatorName, apiKey, consolidated=True, ttm=True):\n",
    "    \n",
    "    if consolidated:   # 연결 기준\n",
    "        if ttm:        # Trailing 12 Months (12개월 누적)\n",
    "            url = f\"https://api.dapada.io/company/getConsolidatedFinancialDataByTTM?apiKey={apiKey}&indicatorName={indicatorName}&stockCode={stockCode}\"            \n",
    "        else:          # 해당 분기 기준 (3개월 집계)\n",
    "            url = f\"https://api.dapada.io/company/getConsolidatedFinancialDataByCUR?apiKey={apiKey}&indicatorName={indicatorName}&stockCode={stockCode}\"       \n",
    "            \n",
    "    else:              # 별도 기준\n",
    "        if ttm:        # Trailing 12 Months (12개월 누적)\n",
    "            url = f\"https://api.dapada.io/company/getSeparatedFinancialDataByTTM?apiKey={apiKey}&indicatorName={indicatorName}&stockCode={stockCode}\"            \n",
    "        else:          # 해당 분기 기준 (3개월 집계)\n",
    "            url = f\"https://api.dapada.io/company/getSeparatedFinancialDataByCUR?apiKey={apiKey}&indicatorName={indicatorName}&stockCode={stockCode}\"       \n",
    "           \n",
    "    headers = {\"apiKey\": f\"{apiKey}\"}\n",
    "    response = requests.get(url, headers=headers)\n",
    "    result = response.json()\n",
    "    return pd.DataFrame(result)"
   ]
  },
  {
   "cell_type": "code",
   "execution_count": 2,
   "metadata": {
    "tags": []
   },
   "outputs": [
    {
     "data": {
      "text/html": [
       "<div>\n",
       "<style scoped>\n",
       "    .dataframe tbody tr th:only-of-type {\n",
       "        vertical-align: middle;\n",
       "    }\n",
       "\n",
       "    .dataframe tbody tr th {\n",
       "        vertical-align: top;\n",
       "    }\n",
       "\n",
       "    .dataframe thead th {\n",
       "        text-align: right;\n",
       "    }\n",
       "</style>\n",
       "<table border=\"1\" class=\"dataframe\">\n",
       "  <thead>\n",
       "    <tr style=\"text-align: right;\">\n",
       "      <th></th>\n",
       "      <th>value</th>\n",
       "      <th>quarter</th>\n",
       "    </tr>\n",
       "  </thead>\n",
       "  <tbody>\n",
       "    <tr>\n",
       "      <th>0</th>\n",
       "      <td>261620131000000</td>\n",
       "      <td>2023-Q3</td>\n",
       "    </tr>\n",
       "    <tr>\n",
       "      <th>1</th>\n",
       "      <td>270997159000000</td>\n",
       "      <td>2023-Q2</td>\n",
       "    </tr>\n",
       "    <tr>\n",
       "      <th>2</th>\n",
       "      <td>288195233000000</td>\n",
       "      <td>2023-Q1</td>\n",
       "    </tr>\n",
       "    <tr>\n",
       "      <th>3</th>\n",
       "      <td>302231360000000</td>\n",
       "      <td>2022-Q4</td>\n",
       "    </tr>\n",
       "    <tr>\n",
       "      <th>4</th>\n",
       "      <td>308332309000000</td>\n",
       "      <td>2022-Q3</td>\n",
       "    </tr>\n",
       "    <tr>\n",
       "      <th>5</th>\n",
       "      <td>305529816000000</td>\n",
       "      <td>2022-Q2</td>\n",
       "    </tr>\n",
       "  </tbody>\n",
       "</table>\n",
       "</div>"
      ],
      "text/plain": [
       "             value  quarter\n",
       "0  261620131000000  2023-Q3\n",
       "1  270997159000000  2023-Q2\n",
       "2  288195233000000  2023-Q1\n",
       "3  302231360000000  2022-Q4\n",
       "4  308332309000000  2022-Q3\n",
       "5  305529816000000  2022-Q2"
      ]
     },
     "execution_count": 2,
     "metadata": {},
     "output_type": "execute_result"
    }
   ],
   "source": [
    "# 삼성전자(005930)의 연결 재무제표 (TTM 기준)에서 \"매출액\" 항목의 데이터 수집\n",
    "df_ttm_consolidated = get_financials(stockCode='005930', \n",
    "                                     indicatorName='매출액', \n",
    "                                     apiKey=my_key, \n",
    "                                     consolidated=True, \n",
    "                                     ttm=True)\n",
    "\n",
    "df_ttm_consolidated"
   ]
  },
  {
   "cell_type": "code",
   "execution_count": 3,
   "metadata": {
    "tags": []
   },
   "outputs": [
    {
     "data": {
      "text/html": [
       "<div>\n",
       "<style scoped>\n",
       "    .dataframe tbody tr th:only-of-type {\n",
       "        vertical-align: middle;\n",
       "    }\n",
       "\n",
       "    .dataframe tbody tr th {\n",
       "        vertical-align: top;\n",
       "    }\n",
       "\n",
       "    .dataframe thead th {\n",
       "        text-align: right;\n",
       "    }\n",
       "</style>\n",
       "<table border=\"1\" class=\"dataframe\">\n",
       "  <thead>\n",
       "    <tr style=\"text-align: right;\">\n",
       "      <th></th>\n",
       "      <th>value</th>\n",
       "      <th>quarter</th>\n",
       "    </tr>\n",
       "  </thead>\n",
       "  <tbody>\n",
       "    <tr>\n",
       "      <th>0</th>\n",
       "      <td>67404652000000</td>\n",
       "      <td>2023-Q3</td>\n",
       "    </tr>\n",
       "    <tr>\n",
       "      <th>1</th>\n",
       "      <td>60005533000000</td>\n",
       "      <td>2023-Q2</td>\n",
       "    </tr>\n",
       "    <tr>\n",
       "      <th>2</th>\n",
       "      <td>63745371000000</td>\n",
       "      <td>2023-Q1</td>\n",
       "    </tr>\n",
       "    <tr>\n",
       "      <th>3</th>\n",
       "      <td>70464575000000</td>\n",
       "      <td>2022-Q4</td>\n",
       "    </tr>\n",
       "    <tr>\n",
       "      <th>4</th>\n",
       "      <td>76781680000000</td>\n",
       "      <td>2022-Q3</td>\n",
       "    </tr>\n",
       "    <tr>\n",
       "      <th>5</th>\n",
       "      <td>77203607000000</td>\n",
       "      <td>2022-Q2</td>\n",
       "    </tr>\n",
       "  </tbody>\n",
       "</table>\n",
       "</div>"
      ],
      "text/plain": [
       "            value  quarter\n",
       "0  67404652000000  2023-Q3\n",
       "1  60005533000000  2023-Q2\n",
       "2  63745371000000  2023-Q1\n",
       "3  70464575000000  2022-Q4\n",
       "4  76781680000000  2022-Q3\n",
       "5  77203607000000  2022-Q2"
      ]
     },
     "execution_count": 3,
     "metadata": {},
     "output_type": "execute_result"
    }
   ],
   "source": [
    "# 삼성전자(005930)의 연결 재무제표 (분기 기준)에서 \"매출액\" 항목의 데이터 수집\n",
    "df_cur_consolidated = get_financials(stockCode='005930', \n",
    "                                     indicatorName='매출액', \n",
    "                                     apiKey=my_key, \n",
    "                                     consolidated=True, \n",
    "                                     ttm=False)\n",
    "\n",
    "df_cur_consolidated"
   ]
  },
  {
   "cell_type": "code",
   "execution_count": 5,
   "metadata": {
    "tags": []
   },
   "outputs": [],
   "source": [
    "# CSV 파일로 저장\n",
    "df_cur_consolidated.to_csv(\"./data/삼성전자_분기별_매출액.csv\", index=False)"
   ]
  }
 ],
 "metadata": {
  "colab": {
   "authorship_tag": "ABX9TyMmPDgPDlEQ9VJpxhthoipr",
   "provenance": []
  },
  "kernelspec": {
   "display_name": "pandas",
   "language": "python",
   "name": "pandas"
  },
  "language_info": {
   "codemirror_mode": {
    "name": "ipython",
    "version": 3
   },
   "file_extension": ".py",
   "mimetype": "text/x-python",
   "name": "python",
   "nbconvert_exporter": "python",
   "pygments_lexer": "ipython3",
   "version": "3.10.13"
  }
 },
 "nbformat": 4,
 "nbformat_minor": 4
}
