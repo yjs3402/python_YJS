{
 "cells": [
  {
   "cell_type": "code",
   "execution_count": 1,
   "metadata": {},
   "outputs": [
    {
     "data": {
      "text/html": [
       "<div>\n",
       "<style scoped>\n",
       "    .dataframe tbody tr th:only-of-type {\n",
       "        vertical-align: middle;\n",
       "    }\n",
       "\n",
       "    .dataframe tbody tr th {\n",
       "        vertical-align: top;\n",
       "    }\n",
       "\n",
       "    .dataframe thead th {\n",
       "        text-align: right;\n",
       "    }\n",
       "</style>\n",
       "<table border=\"1\" class=\"dataframe\">\n",
       "  <thead>\n",
       "    <tr style=\"text-align: right;\">\n",
       "      <th></th>\n",
       "      <th>algol</th>\n",
       "      <th>basic</th>\n",
       "      <th>c++</th>\n",
       "    </tr>\n",
       "    <tr>\n",
       "      <th>name</th>\n",
       "      <th></th>\n",
       "      <th></th>\n",
       "      <th></th>\n",
       "    </tr>\n",
       "  </thead>\n",
       "  <tbody>\n",
       "    <tr>\n",
       "      <th>Jerry</th>\n",
       "      <td>A</td>\n",
       "      <td>C</td>\n",
       "      <td>B+</td>\n",
       "    </tr>\n",
       "    <tr>\n",
       "      <th>Riah</th>\n",
       "      <td>A+</td>\n",
       "      <td>B</td>\n",
       "      <td>C</td>\n",
       "    </tr>\n",
       "    <tr>\n",
       "      <th>Paul</th>\n",
       "      <td>B</td>\n",
       "      <td>B+</td>\n",
       "      <td>C+</td>\n",
       "    </tr>\n",
       "  </tbody>\n",
       "</table>\n",
       "</div>"
      ],
      "text/plain": [
       "      algol basic c++\n",
       "name                 \n",
       "Jerry     A     C  B+\n",
       "Riah     A+     B   C\n",
       "Paul      B    B+  C+"
      ]
     },
     "execution_count": 1,
     "metadata": {},
     "output_type": "execute_result"
    }
   ],
   "source": [
    "import pandas as pd\n",
    "\n",
    "# 판다스 DataFrame() 함수로 데이터프레임 변환. 변수 df에 저장\n",
    "data = {'name' : [ 'Jerry', 'Riah', 'Paul'],\n",
    "        'algol' : [ \"A\", \"A+\", \"B\"],\n",
    "        'basic' : [ \"C\", \"B\", \"B+\"],\n",
    "        'c++' : [ \"B+\", \"C\", \"C+\"]}\n",
    "\n",
    "df = pd.DataFrame(data)\n",
    "df = df.set_index('name')    # name 열을 인덱스로 지정\n",
    "df"
   ]
  },
  {
   "cell_type": "code",
   "execution_count": 2,
   "metadata": {},
   "outputs": [],
   "source": [
    "# to_excel() 함수를 사용하여 Excel 파일로 내보내기. 파일명은 df_sample.xlsx로 저장\n",
    "df.to_excel(\"./data/df_sample.xlsx\")"
   ]
  },
  {
   "cell_type": "code",
   "execution_count": 3,
   "metadata": {},
   "outputs": [],
   "source": [
    "# index = False\n",
    "df.to_excel(\"./data/df_sample_no_index.xlsx\", index=False)"
   ]
  },
  {
   "cell_type": "code",
   "execution_count": null,
   "metadata": {},
   "outputs": [],
   "source": []
  }
 ],
 "metadata": {
  "colab": {
   "authorship_tag": "ABX9TyMmPDgPDlEQ9VJpxhthoipr",
   "provenance": []
  },
  "kernelspec": {
   "display_name": "pandas",
   "language": "python",
   "name": "pandas"
  },
  "language_info": {
   "codemirror_mode": {
    "name": "ipython",
    "version": 3
   },
   "file_extension": ".py",
   "mimetype": "text/x-python",
   "name": "python",
   "nbconvert_exporter": "python",
   "pygments_lexer": "ipython3",
   "version": "3.12.4"
  }
 },
 "nbformat": 4,
 "nbformat_minor": 4
}
