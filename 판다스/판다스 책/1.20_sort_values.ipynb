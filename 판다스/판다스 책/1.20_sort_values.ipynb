{
 "cells": [
  {
   "cell_type": "code",
   "execution_count": 9,
   "metadata": {},
   "outputs": [
    {
     "name": "stdout",
     "output_type": "stream",
     "text": [
      "    c0  c1  c2  c3  c4\n",
      "r0   1   4   7  10  15\n",
      "r1   2   5   8  10  14\n",
      "r2   3   6   9  11  14\n",
      "    c0  c1  c2  c3  c4\n",
      "r2   3   6   9  11  14\n",
      "r1   2   5   8  10  14\n",
      "r0   1   4   7  10  15\n"
     ]
    }
   ],
   "source": [
    "import pandas as pd\n",
    "\n",
    "# 딕셔너리를 데이터프레임으로 변환\n",
    "dict_data = {'c0':[1,2,3], 'c1':[4,5,6], 'c2':[7,8,9], 'c3':[10,10,11], 'c4':[15,14,14]}\n",
    "\n",
    "# 인덱스를 [r0, r1, r2]로 지정\n",
    "df = pd.DataFrame(dict_data, index=['r0', 'r1', 'r2'])\n",
    "print(df)\n",
    "\n",
    "# c1 열을 기준으로 내림차순 정렬\n",
    "ndf = df.sort_values(by='c1', ascending=False)\n",
    "print(ndf)"
   ]
  },
  {
   "cell_type": "code",
   "execution_count": 10,
   "metadata": {},
   "outputs": [
    {
     "name": "stdout",
     "output_type": "stream",
     "text": [
      "    c0  c1  c2  c3  c4\n",
      "r0   1   4   7  10  15\n",
      "r1   2   5   8  10  14\n",
      "r2   3   6   9  11  14\n"
     ]
    }
   ],
   "source": [
    "# c2 열을 기준으로 오름차순 정렬\n",
    "ndf2 = df.sort_values(by='c2', ascending=True)\n",
    "print(ndf2)"
   ]
  },
  {
   "cell_type": "code",
   "execution_count": 13,
   "metadata": {},
   "outputs": [
    {
     "name": "stdout",
     "output_type": "stream",
     "text": [
      "    c0  c1  c2  c3  c4\n",
      "r2   3   6   9  11  14\n",
      "r1   2   5   8  10  14\n",
      "r0   1   4   7  10  15\n"
     ]
    }
   ],
   "source": [
    "# c3 열을 기준으로 내림차순 정렬, c4 열을 기준으로 오름차순 정렬\n",
    "ndf3 = df.sort_values(by=['c3','c4'], ascending=[False, True])\n",
    "print(ndf3)"
   ]
  },
  {
   "cell_type": "code",
   "execution_count": null,
   "metadata": {},
   "outputs": [],
   "source": []
  }
 ],
 "metadata": {
  "colab": {
   "authorship_tag": "ABX9TyNkAYSlSaEVxY2xrXcrdiyy",
   "provenance": []
  },
  "kernelspec": {
   "display_name": "pandas",
   "language": "python",
   "name": "pandas"
  },
  "language_info": {
   "codemirror_mode": {
    "name": "ipython",
    "version": 3
   },
   "file_extension": ".py",
   "mimetype": "text/x-python",
   "name": "python",
   "nbconvert_exporter": "python",
   "pygments_lexer": "ipython3",
   "version": "3.12.4"
  }
 },
 "nbformat": 4,
 "nbformat_minor": 4
}
